{
 "cells": [
  {
   "cell_type": "code",
   "execution_count": 2,
   "id": "33ccfce0-b1ca-4ea9-9ff0-33af4414d0d3",
   "metadata": {},
   "outputs": [],
   "source": [
    "### Introduction \n",
    "\n",
    "# data analysis and librairies \n",
    "\n",
    "#numpy is used for efficient array operations and matrix manipulation, and statistical functions.\n",
    "#pandas is used for making data tables, and reading, writing and manipulation from them.\n",
    "#matplotlib is used for creating high quality plots and figures.\n",
    "\n",
    "# first import it  \n",
    "\n",
    "import matplotlib.pyplot as plt\n",
    "import numpy as np\n",
    "import pandas as pd\n"
   ]
  },
  {
   "cell_type": "code",
   "execution_count": 3,
   "id": "32d4dc26-c964-42df-be2f-feb5178f4b33",
   "metadata": {},
   "outputs": [
    {
     "data": {
      "text/plain": [
       "'\\nIn previous exercises, you were introduced to for loops as a way to repeatedly execute a block of code \\nfor a specified number of times or over a sequence. NumPy operations allow for vectorized processing of \\ndata arrays, often replacing the need for for loops with more efficient and concise array-based calculations. \\nThey work by ***parallelizing** operations.\\n\\nIntroduction to %%timeit: The %%timeit magic command in Jupyter Notebooks is used to measure the execution \\ntime of a code block. It runs the code several times in a loop to get an accurate average time, \\nhelping you understand the performance of your code. This is particularly useful when comparing the \\nspeed of different approaches to solving the same problem.\\n'"
      ]
     },
     "execution_count": 3,
     "metadata": {},
     "output_type": "execute_result"
    }
   ],
   "source": [
    "# Vectorized operations: faster than for loops\n",
    "\n",
    "\"\"\"\n",
    "In previous exercises, you were introduced to for loops as a way to repeatedly execute a block of code \n",
    "for a specified number of times or over a sequence. NumPy operations allow for vectorized processing of \n",
    "data arrays, often replacing the need for for loops with more efficient and concise array-based calculations. \n",
    "They work by ***parallelizing** operations.\n",
    "\n",
    "Introduction to %%timeit: The %%timeit magic command in Jupyter Notebooks is used to measure the execution \n",
    "time of a code block. It runs the code several times in a loop to get an accurate average time, \n",
    "helping you understand the performance of your code. This is particularly useful when comparing the \n",
    "speed of different approaches to solving the same problem.\n",
    "\"\"\"\n",
    "\n",
    "    "
   ]
  },
  {
   "cell_type": "code",
   "execution_count": 14,
   "id": "a3bf21f6-7088-4d1a-984d-1609be525358",
   "metadata": {},
   "outputs": [
    {
     "name": "stdout",
     "output_type": "stream",
     "text": [
      "[0, 1, 2, 3, 4]\n",
      "[999995, 999996, 999997, 999998, 999999]\n"
     ]
    }
   ],
   "source": [
    "# compare time of charging code with and withn't\n",
    "\n",
    "# First, create a large list as the following, which gives a list of the form `[0, 1, ..., 999998, 999999]\n",
    "\n",
    "num_elements = 1000000\n",
    "large_list = list(range(num_elements))\n",
    "\n",
    "print(large_list[:5])  # list indexing as usual\n",
    "print(large_list[-5:])\n"
   ]
  },
  {
   "cell_type": "code",
   "execution_count": 17,
   "id": "60ad4a67-59d4-407c-9f67-491e6b453afb",
   "metadata": {},
   "outputs": [
    {
     "ename": "SyntaxError",
     "evalue": "invalid syntax (2626933836.py, line 3)",
     "output_type": "error",
     "traceback": [
      "\u001b[1;36m  Cell \u001b[1;32mIn[17], line 3\u001b[1;36m\u001b[0m\n\u001b[1;33m    np.sum?\u001b[0m\n\u001b[1;37m          ^\u001b[0m\n\u001b[1;31mSyntaxError\u001b[0m\u001b[1;31m:\u001b[0m invalid syntax\n"
     ]
    }
   ],
   "source": [
    "# function np.sum to sum the elements in the list\n",
    "\n",
    "np.sum? \n",
    "\n",
    "# Python for loops\n",
    "\n",
    "def sum_python_loop(data) -> float:\n",
    "    \"\"\"Sum the elements in `data` using a for loop\"\"\"\n",
    "    total = 0\n",
    "    for x in data:\n",
    "        total += x\n",
    "    return total\n",
    "\n",
    "# Numpy sum\n",
    "\n",
    "def sum_numpy(data) -> float:\n",
    "    \"\"\"Sum the elements in `data` using numpy\"\"\"\n",
    "    return np.sum(data)\n",
    "\n",
    "%%timeit\n",
    "sum_python_loop(large_list)\n",
    "\n",
    "%%timeit\n",
    "sum_numpy(large_list)\n"
   ]
  },
  {
   "cell_type": "code",
   "execution_count": null,
   "id": "d770b0ba-9363-4fd1-a212-ead4145121d4",
   "metadata": {},
   "outputs": [],
   "source": []
  },
  {
   "cell_type": "code",
   "execution_count": null,
   "id": "c3d94d57-dbbd-4c95-81aa-07796a96a2dc",
   "metadata": {},
   "outputs": [],
   "source": []
  }
 ],
 "metadata": {
  "kernelspec": {
   "display_name": "Python 3 (ipykernel)",
   "language": "python",
   "name": "python3"
  },
  "language_info": {
   "codemirror_mode": {
    "name": "ipython",
    "version": 3
   },
   "file_extension": ".py",
   "mimetype": "text/x-python",
   "name": "python",
   "nbconvert_exporter": "python",
   "pygments_lexer": "ipython3",
   "version": "3.11.7"
  }
 },
 "nbformat": 4,
 "nbformat_minor": 5
}
