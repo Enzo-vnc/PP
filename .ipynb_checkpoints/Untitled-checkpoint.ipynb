{
 "cells": [
  {
   "cell_type": "code",
   "execution_count": 1,
   "id": "e3ec7c94-1867-47bc-9cb3-482818fe60b4",
   "metadata": {},
   "outputs": [],
   "source": [
    "## Salut \n",
    "# Salut "
   ]
  },
  {
   "cell_type": "code",
   "execution_count": null,
   "id": "e37ce1e4-cb05-48c2-a2a7-cc5755542617",
   "metadata": {},
   "outputs": [],
   "source": []
  }
 ],
 "metadata": {
  "kernelspec": {
   "display_name": "Python 3 (ipykernel)",
   "language": "python",
   "name": "python3"
  },
  "language_info": {
   "codemirror_mode": {
    "name": "ipython",
    "version": 3
   },
   "file_extension": ".py",
   "mimetype": "text/x-python",
   "name": "python",
   "nbconvert_exporter": "python",
   "pygments_lexer": "ipython3",
   "version": "3.11.7"
  }
 },
 "nbformat": 4,
 "nbformat_minor": 5
}
