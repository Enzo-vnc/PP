{
 "cells": [
  {
   "cell_type": "code",
   "execution_count": 2,
   "id": "33ccfce0-b1ca-4ea9-9ff0-33af4414d0d3",
   "metadata": {},
   "outputs": [],
   "source": [
    "### Introduction \n",
    "\n",
    "# data analysis and librairies \n",
    "\n",
    "#numpy is used for efficient array operations and matrix manipulation, and statistical functions.\n",
    "#pandas is used for making data tables, and reading, writing and manipulation from them.\n",
    "#matplotlib is used for creating high quality plots and figures.\n",
    "\n",
    "# first import it  \n",
    "\n",
    "import matplotlib.pyplot as plt\n",
    "import numpy as np\n",
    "import pandas as pd\n"
   ]
  },
  {
   "cell_type": "code",
   "execution_count": 3,
   "id": "32d4dc26-c964-42df-be2f-feb5178f4b33",
   "metadata": {},
   "outputs": [
    {
     "data": {
      "text/plain": [
       "'\\nIn previous exercises, you were introduced to for loops as a way to repeatedly execute a block of code \\nfor a specified number of times or over a sequence. NumPy operations allow for vectorized processing of \\ndata arrays, often replacing the need for for loops with more efficient and concise array-based calculations. \\nThey work by ***parallelizing** operations.\\n\\nIntroduction to %%timeit: The %%timeit magic command in Jupyter Notebooks is used to measure the execution \\ntime of a code block. It runs the code several times in a loop to get an accurate average time, \\nhelping you understand the performance of your code. This is particularly useful when comparing the \\nspeed of different approaches to solving the same problem.\\n'"
      ]
     },
     "execution_count": 3,
     "metadata": {},
     "output_type": "execute_result"
    }
   ],
   "source": [
    "# Vectorized operations: faster than for loops\n",
    "\n",
    "\"\"\"\n",
    "In previous exercises, you were introduced to for loops as a way to repeatedly execute a block of code \n",
    "for a specified number of times or over a sequence. NumPy operations allow for vectorized processing of \n",
    "data arrays, often replacing the need for for loops with more efficient and concise array-based calculations. \n",
    "They work by ***parallelizing** operations.\n",
    "\n",
    "Introduction to %%timeit: The %%timeit magic command in Jupyter Notebooks is used to measure the execution \n",
    "time of a code block. It runs the code several times in a loop to get an accurate average time, \n",
    "helping you understand the performance of your code. This is particularly useful when comparing the \n",
    "speed of different approaches to solving the same problem.\n",
    "\"\"\"\n",
    "\n",
    "    "
   ]
  },
  {
   "cell_type": "code",
   "execution_count": 5,
   "id": "a3bf21f6-7088-4d1a-984d-1609be525358",
   "metadata": {},
   "outputs": [
    {
     "name": "stdout",
     "output_type": "stream",
     "text": [
      "[0, 1, 2, 3, 4]\n",
      "[999995, 999996, 999997, 999998, 999999]\n"
     ]
    },
    {
     "data": {
      "text/plain": [
       "\u001b[1;31mSignature:\u001b[0m      \n",
       "\u001b[0mnp\u001b[0m\u001b[1;33m.\u001b[0m\u001b[0msum\u001b[0m\u001b[1;33m(\u001b[0m\u001b[1;33m\n",
       "\u001b[0m    \u001b[0ma\u001b[0m\u001b[1;33m,\u001b[0m\u001b[1;33m\n",
       "\u001b[0m    \u001b[0maxis\u001b[0m\u001b[1;33m=\u001b[0m\u001b[1;32mNone\u001b[0m\u001b[1;33m,\u001b[0m\u001b[1;33m\n",
       "\u001b[0m    \u001b[0mdtype\u001b[0m\u001b[1;33m=\u001b[0m\u001b[1;32mNone\u001b[0m\u001b[1;33m,\u001b[0m\u001b[1;33m\n",
       "\u001b[0m    \u001b[0mout\u001b[0m\u001b[1;33m=\u001b[0m\u001b[1;32mNone\u001b[0m\u001b[1;33m,\u001b[0m\u001b[1;33m\n",
       "\u001b[0m    \u001b[0mkeepdims\u001b[0m\u001b[1;33m=\u001b[0m\u001b[1;33m<\u001b[0m\u001b[0mno\u001b[0m \u001b[0mvalue\u001b[0m\u001b[1;33m>\u001b[0m\u001b[1;33m,\u001b[0m\u001b[1;33m\n",
       "\u001b[0m    \u001b[0minitial\u001b[0m\u001b[1;33m=\u001b[0m\u001b[1;33m<\u001b[0m\u001b[0mno\u001b[0m \u001b[0mvalue\u001b[0m\u001b[1;33m>\u001b[0m\u001b[1;33m,\u001b[0m\u001b[1;33m\n",
       "\u001b[0m    \u001b[0mwhere\u001b[0m\u001b[1;33m=\u001b[0m\u001b[1;33m<\u001b[0m\u001b[0mno\u001b[0m \u001b[0mvalue\u001b[0m\u001b[1;33m>\u001b[0m\u001b[1;33m,\u001b[0m\u001b[1;33m\n",
       "\u001b[0m\u001b[1;33m)\u001b[0m\u001b[1;33m\u001b[0m\u001b[1;33m\u001b[0m\u001b[0m\n",
       "\u001b[1;31mCall signature:\u001b[0m  \u001b[0mnp\u001b[0m\u001b[1;33m.\u001b[0m\u001b[0msum\u001b[0m\u001b[1;33m(\u001b[0m\u001b[1;33m*\u001b[0m\u001b[0margs\u001b[0m\u001b[1;33m,\u001b[0m \u001b[1;33m**\u001b[0m\u001b[0mkwargs\u001b[0m\u001b[1;33m)\u001b[0m\u001b[1;33m\u001b[0m\u001b[1;33m\u001b[0m\u001b[0m\n",
       "\u001b[1;31mType:\u001b[0m            _ArrayFunctionDispatcher\n",
       "\u001b[1;31mString form:\u001b[0m     <function sum at 0x0000018BA7DE1260>\n",
       "\u001b[1;31mFile:\u001b[0m            c:\\users\\venan\\anaconda3\\lib\\site-packages\\numpy\\core\\fromnumeric.py\n",
       "\u001b[1;31mDocstring:\u001b[0m      \n",
       "Sum of array elements over a given axis.\n",
       "\n",
       "Parameters\n",
       "----------\n",
       "a : array_like\n",
       "    Elements to sum.\n",
       "axis : None or int or tuple of ints, optional\n",
       "    Axis or axes along which a sum is performed.  The default,\n",
       "    axis=None, will sum all of the elements of the input array.  If\n",
       "    axis is negative it counts from the last to the first axis.\n",
       "\n",
       "    .. versionadded:: 1.7.0\n",
       "\n",
       "    If axis is a tuple of ints, a sum is performed on all of the axes\n",
       "    specified in the tuple instead of a single axis or all the axes as\n",
       "    before.\n",
       "dtype : dtype, optional\n",
       "    The type of the returned array and of the accumulator in which the\n",
       "    elements are summed.  The dtype of `a` is used by default unless `a`\n",
       "    has an integer dtype of less precision than the default platform\n",
       "    integer.  In that case, if `a` is signed then the platform integer\n",
       "    is used while if `a` is unsigned then an unsigned integer of the\n",
       "    same precision as the platform integer is used.\n",
       "out : ndarray, optional\n",
       "    Alternative output array in which to place the result. It must have\n",
       "    the same shape as the expected output, but the type of the output\n",
       "    values will be cast if necessary.\n",
       "keepdims : bool, optional\n",
       "    If this is set to True, the axes which are reduced are left\n",
       "    in the result as dimensions with size one. With this option,\n",
       "    the result will broadcast correctly against the input array.\n",
       "\n",
       "    If the default value is passed, then `keepdims` will not be\n",
       "    passed through to the `sum` method of sub-classes of\n",
       "    `ndarray`, however any non-default value will be.  If the\n",
       "    sub-class' method does not implement `keepdims` any\n",
       "    exceptions will be raised.\n",
       "initial : scalar, optional\n",
       "    Starting value for the sum. See `~numpy.ufunc.reduce` for details.\n",
       "\n",
       "    .. versionadded:: 1.15.0\n",
       "\n",
       "where : array_like of bool, optional\n",
       "    Elements to include in the sum. See `~numpy.ufunc.reduce` for details.\n",
       "\n",
       "    .. versionadded:: 1.17.0\n",
       "\n",
       "Returns\n",
       "-------\n",
       "sum_along_axis : ndarray\n",
       "    An array with the same shape as `a`, with the specified\n",
       "    axis removed.   If `a` is a 0-d array, or if `axis` is None, a scalar\n",
       "    is returned.  If an output array is specified, a reference to\n",
       "    `out` is returned.\n",
       "\n",
       "See Also\n",
       "--------\n",
       "ndarray.sum : Equivalent method.\n",
       "\n",
       "add.reduce : Equivalent functionality of `add`.\n",
       "\n",
       "cumsum : Cumulative sum of array elements.\n",
       "\n",
       "trapz : Integration of array values using the composite trapezoidal rule.\n",
       "\n",
       "mean, average\n",
       "\n",
       "Notes\n",
       "-----\n",
       "Arithmetic is modular when using integer types, and no error is\n",
       "raised on overflow.\n",
       "\n",
       "The sum of an empty array is the neutral element 0:\n",
       "\n",
       ">>> np.sum([])\n",
       "0.0\n",
       "\n",
       "For floating point numbers the numerical precision of sum (and\n",
       "``np.add.reduce``) is in general limited by directly adding each number\n",
       "individually to the result causing rounding errors in every step.\n",
       "However, often numpy will use a  numerically better approach (partial\n",
       "pairwise summation) leading to improved precision in many use-cases.\n",
       "This improved precision is always provided when no ``axis`` is given.\n",
       "When ``axis`` is given, it will depend on which axis is summed.\n",
       "Technically, to provide the best speed possible, the improved precision\n",
       "is only used when the summation is along the fast axis in memory.\n",
       "Note that the exact precision may vary depending on other parameters.\n",
       "In contrast to NumPy, Python's ``math.fsum`` function uses a slower but\n",
       "more precise approach to summation.\n",
       "Especially when summing a large number of lower precision floating point\n",
       "numbers, such as ``float32``, numerical errors can become significant.\n",
       "In such cases it can be advisable to use `dtype=\"float64\"` to use a higher\n",
       "precision for the output.\n",
       "\n",
       "Examples\n",
       "--------\n",
       ">>> np.sum([0.5, 1.5])\n",
       "2.0\n",
       ">>> np.sum([0.5, 0.7, 0.2, 1.5], dtype=np.int32)\n",
       "1\n",
       ">>> np.sum([[0, 1], [0, 5]])\n",
       "6\n",
       ">>> np.sum([[0, 1], [0, 5]], axis=0)\n",
       "array([0, 6])\n",
       ">>> np.sum([[0, 1], [0, 5]], axis=1)\n",
       "array([1, 5])\n",
       ">>> np.sum([[0, 1], [np.nan, 5]], where=[False, True], axis=1)\n",
       "array([1., 5.])\n",
       "\n",
       "If the accumulator is too small, overflow occurs:\n",
       "\n",
       ">>> np.ones(128, dtype=np.int8).sum(dtype=np.int8)\n",
       "-128\n",
       "\n",
       "You can also start the sum with a value other than zero:\n",
       "\n",
       ">>> np.sum([10], initial=5)\n",
       "15\n",
       "\u001b[1;31mClass docstring:\u001b[0m\n",
       "Class to wrap functions with checks for __array_function__ overrides.\n",
       "\n",
       "All arguments are required, and can only be passed by position.\n",
       "\n",
       "Parameters\n",
       "----------\n",
       "dispatcher : function or None\n",
       "    The dispatcher function that returns a single sequence-like object\n",
       "    of all arguments relevant.  It must have the same signature (except\n",
       "    the default values) as the actual implementation.\n",
       "    If ``None``, this is a ``like=`` dispatcher and the\n",
       "    ``_ArrayFunctionDispatcher`` must be called with ``like`` as the\n",
       "    first (additional and positional) argument.\n",
       "implementation : function\n",
       "    Function that implements the operation on NumPy arrays without\n",
       "    overrides.  Arguments passed calling the ``_ArrayFunctionDispatcher``\n",
       "    will be forwarded to this (and the ``dispatcher``) as if using\n",
       "    ``*args, **kwargs``.\n",
       "\n",
       "Attributes\n",
       "----------\n",
       "_implementation : function\n",
       "    The original implementation passed in."
      ]
     },
     "metadata": {},
     "output_type": "display_data"
    }
   ],
   "source": [
    "# compare time of charging code with and withn't\n",
    "\n",
    "# First, create a large list as the following, which gives a list of the form `[0, 1, ..., 999998, 999999]\n",
    "\n",
    "num_elements = 1000000\n",
    "large_list = list(range(num_elements))\n",
    "\n",
    "print(large_list[:5])  # list indexing as usual\n",
    "print(large_list[-5:])\n"
   ]
  },
  {
   "cell_type": "code",
   "execution_count": 9,
   "id": "60ad4a67-59d4-407c-9f67-491e6b453afb",
   "metadata": {},
   "outputs": [
    {
     "data": {
      "text/plain": [
       "\u001b[1;31mSignature:\u001b[0m      \n",
       "\u001b[0mnp\u001b[0m\u001b[1;33m.\u001b[0m\u001b[0msum\u001b[0m\u001b[1;33m(\u001b[0m\u001b[1;33m\n",
       "\u001b[0m    \u001b[0ma\u001b[0m\u001b[1;33m,\u001b[0m\u001b[1;33m\n",
       "\u001b[0m    \u001b[0maxis\u001b[0m\u001b[1;33m=\u001b[0m\u001b[1;32mNone\u001b[0m\u001b[1;33m,\u001b[0m\u001b[1;33m\n",
       "\u001b[0m    \u001b[0mdtype\u001b[0m\u001b[1;33m=\u001b[0m\u001b[1;32mNone\u001b[0m\u001b[1;33m,\u001b[0m\u001b[1;33m\n",
       "\u001b[0m    \u001b[0mout\u001b[0m\u001b[1;33m=\u001b[0m\u001b[1;32mNone\u001b[0m\u001b[1;33m,\u001b[0m\u001b[1;33m\n",
       "\u001b[0m    \u001b[0mkeepdims\u001b[0m\u001b[1;33m=\u001b[0m\u001b[1;33m<\u001b[0m\u001b[0mno\u001b[0m \u001b[0mvalue\u001b[0m\u001b[1;33m>\u001b[0m\u001b[1;33m,\u001b[0m\u001b[1;33m\n",
       "\u001b[0m    \u001b[0minitial\u001b[0m\u001b[1;33m=\u001b[0m\u001b[1;33m<\u001b[0m\u001b[0mno\u001b[0m \u001b[0mvalue\u001b[0m\u001b[1;33m>\u001b[0m\u001b[1;33m,\u001b[0m\u001b[1;33m\n",
       "\u001b[0m    \u001b[0mwhere\u001b[0m\u001b[1;33m=\u001b[0m\u001b[1;33m<\u001b[0m\u001b[0mno\u001b[0m \u001b[0mvalue\u001b[0m\u001b[1;33m>\u001b[0m\u001b[1;33m,\u001b[0m\u001b[1;33m\n",
       "\u001b[0m\u001b[1;33m)\u001b[0m\u001b[1;33m\u001b[0m\u001b[1;33m\u001b[0m\u001b[0m\n",
       "\u001b[1;31mCall signature:\u001b[0m  \u001b[0mnp\u001b[0m\u001b[1;33m.\u001b[0m\u001b[0msum\u001b[0m\u001b[1;33m(\u001b[0m\u001b[1;33m*\u001b[0m\u001b[0margs\u001b[0m\u001b[1;33m,\u001b[0m \u001b[1;33m**\u001b[0m\u001b[0mkwargs\u001b[0m\u001b[1;33m)\u001b[0m\u001b[1;33m\u001b[0m\u001b[1;33m\u001b[0m\u001b[0m\n",
       "\u001b[1;31mType:\u001b[0m            _ArrayFunctionDispatcher\n",
       "\u001b[1;31mString form:\u001b[0m     <function sum at 0x0000018BA7DE1260>\n",
       "\u001b[1;31mFile:\u001b[0m            c:\\users\\venan\\anaconda3\\lib\\site-packages\\numpy\\core\\fromnumeric.py\n",
       "\u001b[1;31mDocstring:\u001b[0m      \n",
       "Sum of array elements over a given axis.\n",
       "\n",
       "Parameters\n",
       "----------\n",
       "a : array_like\n",
       "    Elements to sum.\n",
       "axis : None or int or tuple of ints, optional\n",
       "    Axis or axes along which a sum is performed.  The default,\n",
       "    axis=None, will sum all of the elements of the input array.  If\n",
       "    axis is negative it counts from the last to the first axis.\n",
       "\n",
       "    .. versionadded:: 1.7.0\n",
       "\n",
       "    If axis is a tuple of ints, a sum is performed on all of the axes\n",
       "    specified in the tuple instead of a single axis or all the axes as\n",
       "    before.\n",
       "dtype : dtype, optional\n",
       "    The type of the returned array and of the accumulator in which the\n",
       "    elements are summed.  The dtype of `a` is used by default unless `a`\n",
       "    has an integer dtype of less precision than the default platform\n",
       "    integer.  In that case, if `a` is signed then the platform integer\n",
       "    is used while if `a` is unsigned then an unsigned integer of the\n",
       "    same precision as the platform integer is used.\n",
       "out : ndarray, optional\n",
       "    Alternative output array in which to place the result. It must have\n",
       "    the same shape as the expected output, but the type of the output\n",
       "    values will be cast if necessary.\n",
       "keepdims : bool, optional\n",
       "    If this is set to True, the axes which are reduced are left\n",
       "    in the result as dimensions with size one. With this option,\n",
       "    the result will broadcast correctly against the input array.\n",
       "\n",
       "    If the default value is passed, then `keepdims` will not be\n",
       "    passed through to the `sum` method of sub-classes of\n",
       "    `ndarray`, however any non-default value will be.  If the\n",
       "    sub-class' method does not implement `keepdims` any\n",
       "    exceptions will be raised.\n",
       "initial : scalar, optional\n",
       "    Starting value for the sum. See `~numpy.ufunc.reduce` for details.\n",
       "\n",
       "    .. versionadded:: 1.15.0\n",
       "\n",
       "where : array_like of bool, optional\n",
       "    Elements to include in the sum. See `~numpy.ufunc.reduce` for details.\n",
       "\n",
       "    .. versionadded:: 1.17.0\n",
       "\n",
       "Returns\n",
       "-------\n",
       "sum_along_axis : ndarray\n",
       "    An array with the same shape as `a`, with the specified\n",
       "    axis removed.   If `a` is a 0-d array, or if `axis` is None, a scalar\n",
       "    is returned.  If an output array is specified, a reference to\n",
       "    `out` is returned.\n",
       "\n",
       "See Also\n",
       "--------\n",
       "ndarray.sum : Equivalent method.\n",
       "\n",
       "add.reduce : Equivalent functionality of `add`.\n",
       "\n",
       "cumsum : Cumulative sum of array elements.\n",
       "\n",
       "trapz : Integration of array values using the composite trapezoidal rule.\n",
       "\n",
       "mean, average\n",
       "\n",
       "Notes\n",
       "-----\n",
       "Arithmetic is modular when using integer types, and no error is\n",
       "raised on overflow.\n",
       "\n",
       "The sum of an empty array is the neutral element 0:\n",
       "\n",
       ">>> np.sum([])\n",
       "0.0\n",
       "\n",
       "For floating point numbers the numerical precision of sum (and\n",
       "``np.add.reduce``) is in general limited by directly adding each number\n",
       "individually to the result causing rounding errors in every step.\n",
       "However, often numpy will use a  numerically better approach (partial\n",
       "pairwise summation) leading to improved precision in many use-cases.\n",
       "This improved precision is always provided when no ``axis`` is given.\n",
       "When ``axis`` is given, it will depend on which axis is summed.\n",
       "Technically, to provide the best speed possible, the improved precision\n",
       "is only used when the summation is along the fast axis in memory.\n",
       "Note that the exact precision may vary depending on other parameters.\n",
       "In contrast to NumPy, Python's ``math.fsum`` function uses a slower but\n",
       "more precise approach to summation.\n",
       "Especially when summing a large number of lower precision floating point\n",
       "numbers, such as ``float32``, numerical errors can become significant.\n",
       "In such cases it can be advisable to use `dtype=\"float64\"` to use a higher\n",
       "precision for the output.\n",
       "\n",
       "Examples\n",
       "--------\n",
       ">>> np.sum([0.5, 1.5])\n",
       "2.0\n",
       ">>> np.sum([0.5, 0.7, 0.2, 1.5], dtype=np.int32)\n",
       "1\n",
       ">>> np.sum([[0, 1], [0, 5]])\n",
       "6\n",
       ">>> np.sum([[0, 1], [0, 5]], axis=0)\n",
       "array([0, 6])\n",
       ">>> np.sum([[0, 1], [0, 5]], axis=1)\n",
       "array([1, 5])\n",
       ">>> np.sum([[0, 1], [np.nan, 5]], where=[False, True], axis=1)\n",
       "array([1., 5.])\n",
       "\n",
       "If the accumulator is too small, overflow occurs:\n",
       "\n",
       ">>> np.ones(128, dtype=np.int8).sum(dtype=np.int8)\n",
       "-128\n",
       "\n",
       "You can also start the sum with a value other than zero:\n",
       "\n",
       ">>> np.sum([10], initial=5)\n",
       "15\n",
       "\u001b[1;31mClass docstring:\u001b[0m\n",
       "Class to wrap functions with checks for __array_function__ overrides.\n",
       "\n",
       "All arguments are required, and can only be passed by position.\n",
       "\n",
       "Parameters\n",
       "----------\n",
       "dispatcher : function or None\n",
       "    The dispatcher function that returns a single sequence-like object\n",
       "    of all arguments relevant.  It must have the same signature (except\n",
       "    the default values) as the actual implementation.\n",
       "    If ``None``, this is a ``like=`` dispatcher and the\n",
       "    ``_ArrayFunctionDispatcher`` must be called with ``like`` as the\n",
       "    first (additional and positional) argument.\n",
       "implementation : function\n",
       "    Function that implements the operation on NumPy arrays without\n",
       "    overrides.  Arguments passed calling the ``_ArrayFunctionDispatcher``\n",
       "    will be forwarded to this (and the ``dispatcher``) as if using\n",
       "    ``*args, **kwargs``.\n",
       "\n",
       "Attributes\n",
       "----------\n",
       "_implementation : function\n",
       "    The original implementation passed in."
      ]
     },
     "metadata": {},
     "output_type": "display_data"
    }
   ],
   "source": [
    "# function np.sum to sum the elements in the list and ? to print the documentation\n",
    "\n",
    "np.sum?\n",
    "\n",
    "# Python for loops\n",
    "\n",
    "def sum_python_loop(data) -> float:\n",
    "    \"\"\"Sum the elements in `data` using a for loop\"\"\"\n",
    "    total = 0\n",
    "    for x in data:\n",
    "        total += x\n",
    "    return total\n",
    "\n",
    "# Numpy sum\n",
    "\n",
    "def sum_numpy(data) -> float:\n",
    "    \"\"\"Sum the elements in `data` using numpy\"\"\"\n",
    "    return np.sum(data)\n"
   ]
  },
  {
   "cell_type": "code",
   "execution_count": 10,
   "id": "d770b0ba-9363-4fd1-a212-ead4145121d4",
   "metadata": {},
   "outputs": [
    {
     "name": "stdout",
     "output_type": "stream",
     "text": [
      "41.9 ms ± 3.47 ms per loop (mean ± std. dev. of 7 runs, 10 loops each)\n"
     ]
    }
   ],
   "source": [
    "%%timeit\n",
    "sum_python_loop(large_list)"
   ]
  },
  {
   "cell_type": "code",
   "execution_count": 11,
   "id": "c3d94d57-dbbd-4c95-81aa-07796a96a2dc",
   "metadata": {},
   "outputs": [
    {
     "name": "stdout",
     "output_type": "stream",
     "text": [
      "46.3 ms ± 1.46 ms per loop (mean ± std. dev. of 7 runs, 10 loops each)\n"
     ]
    }
   ],
   "source": [
    "%%timeit\n",
    "sum_numpy(large_list)"
   ]
  },
  {
   "cell_type": "code",
   "execution_count": 12,
   "id": "a60c1309-0f2f-4304-a550-53ebb976ad82",
   "metadata": {},
   "outputs": [
    {
     "name": "stdout",
     "output_type": "stream",
     "text": [
      "[0 1 2 3 4]\n",
      "[999995 999996 999997 999998 999999]\n"
     ]
    }
   ],
   "source": [
    "#python faster than numpy (loops better than vectorized here ?)\n",
    "\n",
    "# test : change summing elements by array for store elements\n",
    "\n",
    "large_array = np.arange(num_elements)\n",
    "\n",
    "print(large_array[:5])  # array indexing just like list indexing\n",
    "print(large_array[-5:])"
   ]
  },
  {
   "cell_type": "code",
   "execution_count": 13,
   "id": "a9c7d0a4-9293-492f-97a2-d919103b6f6e",
   "metadata": {},
   "outputs": [
    {
     "name": "stderr",
     "output_type": "stream",
     "text": [
      "C:\\Users\\venan\\AppData\\Local\\Temp\\ipykernel_18968\\3193721960.py:11: RuntimeWarning: overflow encountered in scalar add\n",
      "  total += x\n"
     ]
    },
    {
     "name": "stdout",
     "output_type": "stream",
     "text": [
      "92.2 ms ± 6.23 ms per loop (mean ± std. dev. of 7 runs, 10 loops each)\n"
     ]
    }
   ],
   "source": [
    "%%timeit\n",
    "sum_python_loop(large_array)"
   ]
  },
  {
   "cell_type": "code",
   "execution_count": 14,
   "id": "386e3984-6302-4d9c-9bde-ceb4eebb4154",
   "metadata": {},
   "outputs": [
    {
     "name": "stdout",
     "output_type": "stream",
     "text": [
      "253 µs ± 24.7 µs per loop (mean ± std. dev. of 7 runs, 1,000 loops each)\n"
     ]
    }
   ],
   "source": [
    "%%timeit\n",
    "sum_numpy(large_array)"
   ]
  },
  {
   "cell_type": "code",
   "execution_count": 15,
   "id": "98d913b2-5a0e-4c32-acbb-438abebef965",
   "metadata": {},
   "outputs": [
    {
     "data": {
      "text/plain": [
       "\"\\nIn the first example, the np.sum function first converts the list in large_list to a numpy array, \\nwhich has a large associated overhead cost. This makes the timings comparable between the for loop \\napproach and the numpy approach. However, by first storing our data in a np.array in the second example, \\nwe gain access to the efficient array operations in numpy. If we store and pass around data in numpy arrays \\nin all of our programs, we only have to consider the overhead costs once.\\n\\nIn general, Python lists are versatile and useful: they can be dynamically-sized and collect together \\nelements with different data types.\\n\\nHowever, if we are dealing with data whose size we know, and whose data types are homogenous \\n(in this case int), using instead a NumPy array will give us far enhanced performance in numerical \\ncomputations versus for loops. For specific applications in chemistry that are computation-intensive, \\nlike data analysis, visualization, and machine learning, we often want to work with arrays.\\n\\nLet's explore more examples of array-based operations with numpy\\n\""
      ]
     },
     "execution_count": 15,
     "metadata": {},
     "output_type": "execute_result"
    }
   ],
   "source": [
    "# Better ! \n",
    "\n",
    "\"\"\"\n",
    "In the first example, the np.sum function first converts the list in large_list to a numpy array, \n",
    "which has a large associated overhead cost. This makes the timings comparable between the for loop \n",
    "approach and the numpy approach. However, by first storing our data in a np.array in the second example, \n",
    "we gain access to the efficient array operations in numpy. If we store and pass around data in numpy arrays \n",
    "in all of our programs, we only have to consider the overhead costs once.\n",
    "\n",
    "In general, Python lists are versatile and useful: they can be dynamically-sized and collect together \n",
    "elements with different data types.\n",
    "\n",
    "However, if we are dealing with data whose size we know, and whose data types are homogenous \n",
    "(in this case int), using instead a NumPy array will give us far enhanced performance in numerical \n",
    "computations versus for loops. For specific applications in chemistry that are computation-intensive, \n",
    "like data analysis, visualization, and machine learning, we often want to work with arrays.\n",
    "\n",
    "Let's explore more examples of array-based operations with numpy\n",
    "\"\"\""
   ]
  },
  {
   "cell_type": "code",
   "execution_count": 20,
   "id": "296a6927-e2fc-4d31-90e9-78ed30a3a6b7",
   "metadata": {},
   "outputs": [
    {
     "name": "stdout",
     "output_type": "stream",
     "text": [
      "[1, 3, 5, 7, 9, 11, 13, 15, 17, 19]\n"
     ]
    }
   ],
   "source": [
    "## Summing lists / array \n",
    "\n",
    "# Create 2 lists with same size\n",
    "\n",
    "list_a = list(range(1000000))\n",
    "list_b = list(range(1, 1000001))\n",
    "\n",
    "def add_python_loop(list1: list, list2: list) -> list:\n",
    "    return [x + y for x, y in zip(list1, list2)]\n",
    "    \n",
    "# See what the function returns\n",
    "\n",
    "new_list = add_python_loop(list_a, list_b)\n",
    "print(new_list[:10])"
   ]
  },
  {
   "cell_type": "code",
   "execution_count": 17,
   "id": "1bc09d3f-0712-40c8-90b5-1f0af27b365f",
   "metadata": {},
   "outputs": [
    {
     "name": "stdout",
     "output_type": "stream",
     "text": [
      "82.1 ms ± 3.24 ms per loop (mean ± std. dev. of 7 runs, 10 loops each)\n"
     ]
    }
   ],
   "source": [
    "%%timeit  # now time it\n",
    "add_python_loop(list_a, list_b)"
   ]
  },
  {
   "cell_type": "code",
   "execution_count": 18,
   "id": "dff5cfcc-f01c-4690-b037-81a6bd50d7bb",
   "metadata": {},
   "outputs": [],
   "source": [
    "array_a = np.arange(1000000)  # integers from 0 to 999999\n",
    "array_b = np.arange(1, 1000001)  # integers from 1 to 1000000\n",
    "\n",
    "def add_numpy_arrays(array_1: np.ndarray, array_2: np.ndarray) -> np.ndarray:\n",
    "    return array_1 + array_2  # you can just use the + operator here!"
   ]
  },
  {
   "cell_type": "code",
   "execution_count": 19,
   "id": "130ae115-b35e-4097-86d6-a4dc4431629f",
   "metadata": {},
   "outputs": [
    {
     "name": "stdout",
     "output_type": "stream",
     "text": [
      "1.62 ms ± 38.4 µs per loop (mean ± std. dev. of 7 runs, 1,000 loops each)\n"
     ]
    }
   ],
   "source": [
    "%%timeit  # now time it\n",
    "add_numpy_arrays(array_a, array_b)"
   ]
  },
  {
   "cell_type": "code",
   "execution_count": 21,
   "id": "53bc9e46-757a-498d-abce-8d981a75c7e1",
   "metadata": {},
   "outputs": [
    {
     "name": "stdout",
     "output_type": "stream",
     "text": [
      "[[1 2 3]\n",
      " [4 5 6]]\n",
      "[[0. 0. 0.]\n",
      " [0. 0. 0.]]\n",
      "[[[1. 1. 1.]\n",
      "  [1. 1. 1.]\n",
      "  [1. 1. 1.]]\n",
      "\n",
      " [[1. 1. 1.]\n",
      "  [1. 1. 1.]\n",
      "  [1. 1. 1.]]\n",
      "\n",
      " [[1. 1. 1.]\n",
      "  [1. 1. 1.]\n",
      "  [1. 1. 1.]]]\n",
      "[[ 0  1  2  3]\n",
      " [ 4  5  6  7]\n",
      " [ 8  9 10 11]]\n"
     ]
    }
   ],
   "source": [
    "## Analysing numpy arrays \n",
    "\"\"\"\n",
    "In NumPy, multi-dimensional arrays (also known as ndarrays) are the foundation for most of the library's \n",
    "operations, allowing you to efficiently store and manipulate data across multiple dimensions. Creating \n",
    "multi-dimensional arrays in NumPy is straightforward, enabling the handling of complex data structures \n",
    "like matrices for linear algebra, tensors for machine learning, or grids for scientific computing.\n",
    "\"\"\"\n",
    "# You can create multi-dimensional arrays in NumPy using various methods, including np.array, \n",
    "#np.zeros, np.ones, and np.arange, among others. Here are some examples to get you started:\n",
    "\n",
    "# Create a 2D array (matrix)\n",
    "\n",
    "matrix = np.array([[1, 2, 3], [4, 5, 6]])\n",
    "print(matrix)\n",
    "\n",
    "# Create a 2x3 array of zeros\n",
    "\n",
    "zeros_array = np.zeros((2, 3))\n",
    "print(zeros_array)\n",
    "\n",
    "# Create a 3x3x3 array of ones\n",
    "\n",
    "ones_array = np.ones((3, 3, 3))\n",
    "print(ones_array)\n",
    "\n",
    "# Create a 3x4 array with a range of numbers\n",
    "\n",
    "range_array = np.arange(12).reshape(3, 4)\n",
    "print(range_array)"
   ]
  },
  {
   "cell_type": "code",
   "execution_count": 22,
   "id": "278532fa-7eed-40f2-a562-d54cee7e5eab",
   "metadata": {},
   "outputs": [
    {
     "name": "stdout",
     "output_type": "stream",
     "text": [
      "[0 1 2 3 4 5]\n",
      "[[0 1 2]\n",
      " [3 4 5]]\n"
     ]
    }
   ],
   "source": [
    "# .reshape() used to reshape an array into a different dimension :\n",
    "\n",
    "# Reshape a 1D array into a 2D array\n",
    "\n",
    "one_d_array = np.arange(6)\n",
    "two_d_array = one_d_array.reshape((2, 3))\n",
    "print(one_d_array)\n",
    "print(two_d_array)"
   ]
  },
  {
   "cell_type": "code",
   "execution_count": 26,
   "id": "552b7c20-4d6d-4a37-8429-0c25453c2ef5",
   "metadata": {},
   "outputs": [
    {
     "name": "stdout",
     "output_type": "stream",
     "text": [
      "Names:\n",
      "['Water' 'Carbon Dioxide' 'Methane' 'Ethanol' 'Oxygen' 'Nitrogen'\n",
      " 'Hydrogen Peroxide' 'Ammonia' 'Sulfuric Acid' 'Acetic Acid' 'Methanol'\n",
      " 'Benzene' 'Ethylene' 'Propane' 'Butane' 'Pentane' 'Hexane' 'Heptane'\n",
      " 'Octane' 'Nonane' 'Decane' 'Caffeine' 'Ethane']\n",
      "Molecular Weights (g/mol):\n",
      "[ 18.015  44.01   16.04   46.07   32.     28.01   34.01   17.03   98.09\n",
      "  60.05   32.04   78.11   28.05   44.1    58.12   72.15   86.18  100.2\n",
      " 114.22  128.25  142.28  194.19   30.07 ]\n"
     ]
    }
   ],
   "source": [
    "## From file to numpy arrays\n",
    "\"\"\"\n",
    "To illustrate how to read chemical data from a file using np.loadtxt, let's consider a simple \n",
    "example where we have a file containing molecular weights of several compounds, stored in the \n",
    "file \"molecular_weights.txt\".\n",
    "\n",
    "The data file is organized with the name of the compound in one column and its molecular weight \n",
    "in the other. For this example, let's assume we are only interested in the numerical data (molecular \n",
    "weights) and that our data file is structured with comments marked by \"#\" and values separated by commas.\n",
    "\"\"\"\n",
    "# Path to the data file\n",
    "file_path = 'molecular_data.txt'\n",
    "\n",
    "# Note that if we try to load the entire file into a single array, we'll get an error as\n",
    "#the file contains both strings and floats. Here, we use delimiter=',' to handle the\n",
    "#comma-separated values\n",
    "#np.loadtxt(file_path, delimiter=',', skiprows=1)\n",
    "\n",
    "# As numpy arrays must be homogenously typed, i.e. we can't mix strings and floats. We\n",
    "# can pass the `dtype` argument to `np.loadtxt` to specify the data type of the array,\n",
    "# ensuring everything is loaded as strings. However, this perhaps isn't so useful as we\n",
    "# want the molecular weights as floats.\n",
    "#np.loadtxt(file_path, delimiter=',', skiprows=1, dtype=str)\n",
    "\n",
    "# Instead, we can load the names as strings and the molecular weights as floats using\n",
    "# the `usecols` argument to specify which columns to load.\n",
    "names = np.loadtxt(file_path, delimiter=',', skiprows=1, usecols=[0], dtype=str)\n",
    "molecular_weights = np.loadtxt(file_path, delimiter=',', skiprows=1, usecols=[1], dtype=np.float64)\n",
    "\n",
    "print(\"Names:\")\n",
    "print(names)\n",
    "print(\"Molecular Weights (g/mol):\")\n",
    "print(molecular_weights)"
   ]
  },
  {
   "cell_type": "code",
   "execution_count": 24,
   "id": "2cf8ca6a-317c-4042-8166-8b6b07b54100",
   "metadata": {},
   "outputs": [
    {
     "name": "stdout",
     "output_type": "stream",
     "text": [
      "Names:\n",
      "['Water' 'Carbon Dioxide' 'Methane' 'Ethanol' 'Oxygen' 'Nitrogen'\n",
      " 'Hydrogen Peroxide' 'Ammonia' 'Sulfuric Acid' 'Acetic Acid' 'Methanol'\n",
      " 'Benzene' 'Ethylene' 'Propane' 'Butane' 'Pentane' 'Hexane' 'Heptane'\n",
      " 'Octane' 'Nonane' 'Decane' 'Caffeine' 'Ethane']\n",
      "Molecular Weights (g/mol):\n",
      "[ 18.015  44.01   16.04   46.07   32.     28.01   34.01   17.03   98.09\n",
      "  60.05   32.04   78.11   28.05   44.1    58.12   72.15   86.18  100.2\n",
      " 114.22  128.25  142.28  194.19   30.07 ]\n"
     ]
    }
   ],
   "source": [
    "# Instead, we can load the names as strings and the molecular weights as floats using\n",
    "# the `usecols` argument to specify which columns to load.\n",
    "names = np.loadtxt(file_path, delimiter=',', skiprows=1, usecols=[0], dtype=str)\n",
    "molecular_weights = np.loadtxt(file_path, delimiter=',', skiprows=1, usecols=[1], dtype=np.float64)\n",
    "\n",
    "print(\"Names:\")\n",
    "print(names)\n",
    "print(\"Molecular Weights (g/mol):\")\n",
    "print(molecular_weights)"
   ]
  },
  {
   "cell_type": "code",
   "execution_count": 27,
   "id": "998878a4-4528-4f80-ab58-6ec2b0f572de",
   "metadata": {},
   "outputs": [
    {
     "name": "stdout",
     "output_type": "stream",
     "text": [
      "Max: 194.19, Min: 16.04, Mean: 65.27326086956522, Std: 45.39299739158912\n"
     ]
    }
   ],
   "source": [
    "# some basic statitics\n",
    "\n",
    "max_value = np.max(molecular_weights)\n",
    "min_value = np.min(molecular_weights)\n",
    "mean_value = np.mean(molecular_weights)  # your code here\n",
    "std_value = np.std(molecular_weights)  # your code here\n",
    "\n",
    "print(f\"Max: {max_value}, Min: {min_value}, Mean: {mean_value}, Std: {std_value}\")"
   ]
  },
  {
   "cell_type": "code",
   "execution_count": 29,
   "id": "fce15e60-cfe6-4c15-93e4-ac127a83a1dd",
   "metadata": {},
   "outputs": [
    {
     "name": "stdout",
     "output_type": "stream",
     "text": [
      "The molecule with the highest molecular weight is: Caffeine with a weight of 194.19\n"
     ]
    }
   ],
   "source": [
    "# Which molecule has the highest molecular weight? We want to find the index in the\n",
    "# `names` array where the maximum value in `molecular_weights` is located.\n",
    "\n",
    "# We can use the `np.argmax` function to find the index of the maximum value in an\n",
    "# array.\n",
    "max_index = np.argmax(molecular_weights)\n",
    "\n",
    "print(f\"The molecule with the highest molecular weight is: {names[max_index]} with a weight of {molecular_weights[max_index]}\")"
   ]
  },
  {
   "cell_type": "code",
   "execution_count": 34,
   "id": "36f306f9-4d2c-4315-bea8-6e836a17762b",
   "metadata": {},
   "outputs": [
    {
     "data": {
      "text/plain": [
       "'\\nPandas has two main data structures: Series and DataFrame. A Series is essentially a column, while a \\nDataFrame is a multi-dimensional table made up of a collection of Series.\\n\\nA Series in pandas is one of the core data structures in the Python pandas library. \\nIt represents a one-dimensional array-like object containing a sequence of values and an associated \\narray of data labels, called its index. The Series can hold any data type—integers, strings, \\nfloating point numbers, Python objects, and so on. It’s similar to a column in a spreadsheet or a \\ntable in a database.\\n'"
      ]
     },
     "execution_count": 34,
     "metadata": {},
     "output_type": "execute_result"
    }
   ],
   "source": [
    "### pandas : Data handling\n",
    "\"\"\"\n",
    "What it is: Pandas is a library providing high-level data structures and tools designed to make data \n",
    "analysis fast and easy in Python. Its primary data structure is the DataFrame, which allows you to store \n",
    "and manipulate tabular data in rows of observations and columns of variables.\n",
    "\n",
    "Why it's used: Pandas is used for data cleaning, transformation, and analysis. It offers data structures \n",
    "with a lot of flexibility and functionality, as well as the means to efficiently handle missing data, \n",
    "merge datasets, and perform complex data aggregations.\n",
    "\n",
    "Usefulness in Chemical Sciences: For chemists, pandas is invaluable for manipulating and analyzing \n",
    "experimental datasets, such as spectroscopy data or chemical properties of compounds. It simplifies \n",
    "tasks such as filtering data, performing statistical analyses, and working with time-series data from \n",
    "instrumental measurements.\n",
    "\"\"\"\n",
    "## Basics\n",
    "\"\"\"\n",
    "Pandas has two main data structures: Series and DataFrame. A Series is essentially a column, while a \n",
    "DataFrame is a multi-dimensional table made up of a collection of Series.\n",
    "\n",
    "A Series in pandas is one of the core data structures in the Python pandas library. \n",
    "It represents a one-dimensional array-like object containing a sequence of values and an associated \n",
    "array of data labels, called its index. The Series can hold any data type—integers, strings, \n",
    "floating point numbers, Python objects, and so on. It’s similar to a column in a spreadsheet or a \n",
    "table in a database.\n",
    "\"\"\""
   ]
  },
  {
   "cell_type": "code",
   "execution_count": 33,
   "id": "45c8ea99-1b98-41e8-8ff3-7486c586aa31",
   "metadata": {},
   "outputs": [
    {
     "data": {
      "text/plain": [
       "0              Water\n",
       "1            Ethanol\n",
       "2            Glucose\n",
       "3    Sodium Chloride\n",
       "4            Methane\n",
       "dtype: object"
      ]
     },
     "execution_count": 33,
     "metadata": {},
     "output_type": "execute_result"
    }
   ],
   "source": [
    "compounds = pd.Series([\"Water\", \"Ethanol\", \"Glucose\", \"Sodium Chloride\", \"Methane\"])\n",
    "compounds"
   ]
  },
  {
   "cell_type": "code",
   "execution_count": 35,
   "id": "e33b10ee-ac5f-4e01-9828-2ae9cc60bcfe",
   "metadata": {},
   "outputs": [
    {
     "data": {
      "text/html": [
       "<div>\n",
       "<style scoped>\n",
       "    .dataframe tbody tr th:only-of-type {\n",
       "        vertical-align: middle;\n",
       "    }\n",
       "\n",
       "    .dataframe tbody tr th {\n",
       "        vertical-align: top;\n",
       "    }\n",
       "\n",
       "    .dataframe thead th {\n",
       "        text-align: right;\n",
       "    }\n",
       "</style>\n",
       "<table border=\"1\" class=\"dataframe\">\n",
       "  <thead>\n",
       "    <tr style=\"text-align: right;\">\n",
       "      <th></th>\n",
       "      <th>Compound</th>\n",
       "      <th>Molecular Weight</th>\n",
       "      <th>Melting Point (°C)</th>\n",
       "    </tr>\n",
       "  </thead>\n",
       "  <tbody>\n",
       "    <tr>\n",
       "      <th>0</th>\n",
       "      <td>Water</td>\n",
       "      <td>18.015</td>\n",
       "      <td>0.0</td>\n",
       "    </tr>\n",
       "    <tr>\n",
       "      <th>1</th>\n",
       "      <td>Ethanol</td>\n",
       "      <td>46.070</td>\n",
       "      <td>-114.1</td>\n",
       "    </tr>\n",
       "    <tr>\n",
       "      <th>2</th>\n",
       "      <td>Glucose</td>\n",
       "      <td>180.160</td>\n",
       "      <td>146.0</td>\n",
       "    </tr>\n",
       "    <tr>\n",
       "      <th>3</th>\n",
       "      <td>Sodium Chloride</td>\n",
       "      <td>58.440</td>\n",
       "      <td>801.0</td>\n",
       "    </tr>\n",
       "    <tr>\n",
       "      <th>4</th>\n",
       "      <td>Methane</td>\n",
       "      <td>16.040</td>\n",
       "      <td>-182.5</td>\n",
       "    </tr>\n",
       "  </tbody>\n",
       "</table>\n",
       "</div>"
      ],
      "text/plain": [
       "          Compound  Molecular Weight  Melting Point (°C)\n",
       "0            Water            18.015                 0.0\n",
       "1          Ethanol            46.070              -114.1\n",
       "2          Glucose           180.160               146.0\n",
       "3  Sodium Chloride            58.440               801.0\n",
       "4          Methane            16.040              -182.5"
      ]
     },
     "execution_count": 35,
     "metadata": {},
     "output_type": "execute_result"
    }
   ],
   "source": [
    "data = {\n",
    "    \"Compound\": [\"Water\", \"Ethanol\", \"Glucose\", \"Sodium Chloride\", \"Methane\"],\n",
    "    \"Molecular Weight\": [18.015, 46.07, 180.16, 58.44, 16.04],\n",
    "    \"Melting Point (°C)\": [0, -114.1, 146, 801, -182.5]\n",
    "}\n",
    "df = pd.DataFrame(data)\n",
    "df"
   ]
  },
  {
   "cell_type": "code",
   "execution_count": 36,
   "id": "d3f0174c-104f-4119-8372-73f443fa777b",
   "metadata": {},
   "outputs": [
    {
     "data": {
      "text/html": [
       "<div>\n",
       "<style scoped>\n",
       "    .dataframe tbody tr th:only-of-type {\n",
       "        vertical-align: middle;\n",
       "    }\n",
       "\n",
       "    .dataframe tbody tr th {\n",
       "        vertical-align: top;\n",
       "    }\n",
       "\n",
       "    .dataframe thead th {\n",
       "        text-align: right;\n",
       "    }\n",
       "</style>\n",
       "<table border=\"1\" class=\"dataframe\">\n",
       "  <thead>\n",
       "    <tr style=\"text-align: right;\">\n",
       "      <th></th>\n",
       "      <th># Compound Name</th>\n",
       "      <th>Molecular Weight (g/mol)</th>\n",
       "      <th>Boiling Point (°C)</th>\n",
       "    </tr>\n",
       "  </thead>\n",
       "  <tbody>\n",
       "    <tr>\n",
       "      <th>0</th>\n",
       "      <td>Water</td>\n",
       "      <td>18.015</td>\n",
       "      <td>100.0</td>\n",
       "    </tr>\n",
       "    <tr>\n",
       "      <th>1</th>\n",
       "      <td>Carbon Dioxide</td>\n",
       "      <td>44.010</td>\n",
       "      <td>-78.5</td>\n",
       "    </tr>\n",
       "    <tr>\n",
       "      <th>2</th>\n",
       "      <td>Methane</td>\n",
       "      <td>16.040</td>\n",
       "      <td>-161.5</td>\n",
       "    </tr>\n",
       "    <tr>\n",
       "      <th>3</th>\n",
       "      <td>Ethanol</td>\n",
       "      <td>46.070</td>\n",
       "      <td>78.3</td>\n",
       "    </tr>\n",
       "    <tr>\n",
       "      <th>4</th>\n",
       "      <td>Oxygen</td>\n",
       "      <td>32.000</td>\n",
       "      <td>-183.0</td>\n",
       "    </tr>\n",
       "    <tr>\n",
       "      <th>5</th>\n",
       "      <td>Nitrogen</td>\n",
       "      <td>28.010</td>\n",
       "      <td>-196.0</td>\n",
       "    </tr>\n",
       "    <tr>\n",
       "      <th>6</th>\n",
       "      <td>Hydrogen Peroxide</td>\n",
       "      <td>34.010</td>\n",
       "      <td>150.2</td>\n",
       "    </tr>\n",
       "    <tr>\n",
       "      <th>7</th>\n",
       "      <td>Ammonia</td>\n",
       "      <td>17.030</td>\n",
       "      <td>-33.3</td>\n",
       "    </tr>\n",
       "    <tr>\n",
       "      <th>8</th>\n",
       "      <td>Sulfuric Acid</td>\n",
       "      <td>98.090</td>\n",
       "      <td>337.0</td>\n",
       "    </tr>\n",
       "    <tr>\n",
       "      <th>9</th>\n",
       "      <td>Acetic Acid</td>\n",
       "      <td>60.050</td>\n",
       "      <td>118.1</td>\n",
       "    </tr>\n",
       "    <tr>\n",
       "      <th>10</th>\n",
       "      <td>Methanol</td>\n",
       "      <td>32.040</td>\n",
       "      <td>64.7</td>\n",
       "    </tr>\n",
       "    <tr>\n",
       "      <th>11</th>\n",
       "      <td>Benzene</td>\n",
       "      <td>78.110</td>\n",
       "      <td>80.1</td>\n",
       "    </tr>\n",
       "    <tr>\n",
       "      <th>12</th>\n",
       "      <td>Ethylene</td>\n",
       "      <td>28.050</td>\n",
       "      <td>-103.7</td>\n",
       "    </tr>\n",
       "    <tr>\n",
       "      <th>13</th>\n",
       "      <td>Propane</td>\n",
       "      <td>44.100</td>\n",
       "      <td>-42.1</td>\n",
       "    </tr>\n",
       "    <tr>\n",
       "      <th>14</th>\n",
       "      <td>Butane</td>\n",
       "      <td>58.120</td>\n",
       "      <td>-0.5</td>\n",
       "    </tr>\n",
       "    <tr>\n",
       "      <th>15</th>\n",
       "      <td>Pentane</td>\n",
       "      <td>72.150</td>\n",
       "      <td>36.1</td>\n",
       "    </tr>\n",
       "    <tr>\n",
       "      <th>16</th>\n",
       "      <td>Hexane</td>\n",
       "      <td>86.180</td>\n",
       "      <td>68.7</td>\n",
       "    </tr>\n",
       "    <tr>\n",
       "      <th>17</th>\n",
       "      <td>Heptane</td>\n",
       "      <td>100.200</td>\n",
       "      <td>98.4</td>\n",
       "    </tr>\n",
       "    <tr>\n",
       "      <th>18</th>\n",
       "      <td>Octane</td>\n",
       "      <td>114.220</td>\n",
       "      <td>125.7</td>\n",
       "    </tr>\n",
       "    <tr>\n",
       "      <th>19</th>\n",
       "      <td>Nonane</td>\n",
       "      <td>128.250</td>\n",
       "      <td>150.8</td>\n",
       "    </tr>\n",
       "    <tr>\n",
       "      <th>20</th>\n",
       "      <td>Decane</td>\n",
       "      <td>142.280</td>\n",
       "      <td>174.1</td>\n",
       "    </tr>\n",
       "    <tr>\n",
       "      <th>21</th>\n",
       "      <td>Caffeine</td>\n",
       "      <td>194.190</td>\n",
       "      <td>178.0</td>\n",
       "    </tr>\n",
       "    <tr>\n",
       "      <th>22</th>\n",
       "      <td>Ethane</td>\n",
       "      <td>30.070</td>\n",
       "      <td>-88.6</td>\n",
       "    </tr>\n",
       "  </tbody>\n",
       "</table>\n",
       "</div>"
      ],
      "text/plain": [
       "      # Compound Name  Molecular Weight (g/mol)  Boiling Point (°C)\n",
       "0               Water                    18.015               100.0\n",
       "1      Carbon Dioxide                    44.010               -78.5\n",
       "2             Methane                    16.040              -161.5\n",
       "3             Ethanol                    46.070                78.3\n",
       "4              Oxygen                    32.000              -183.0\n",
       "5            Nitrogen                    28.010              -196.0\n",
       "6   Hydrogen Peroxide                    34.010               150.2\n",
       "7             Ammonia                    17.030               -33.3\n",
       "8       Sulfuric Acid                    98.090               337.0\n",
       "9         Acetic Acid                    60.050               118.1\n",
       "10           Methanol                    32.040                64.7\n",
       "11            Benzene                    78.110                80.1\n",
       "12           Ethylene                    28.050              -103.7\n",
       "13            Propane                    44.100               -42.1\n",
       "14             Butane                    58.120                -0.5\n",
       "15            Pentane                    72.150                36.1\n",
       "16             Hexane                    86.180                68.7\n",
       "17            Heptane                   100.200                98.4\n",
       "18             Octane                   114.220               125.7\n",
       "19             Nonane                   128.250               150.8\n",
       "20             Decane                   142.280               174.1\n",
       "21           Caffeine                   194.190               178.0\n",
       "22             Ethane                    30.070               -88.6"
      ]
     },
     "execution_count": 36,
     "metadata": {},
     "output_type": "execute_result"
    }
   ],
   "source": [
    "# A DataFrame can also be created by reading in data from file\n",
    "\n",
    "df = pd.read_csv(file_path, )\n",
    "df"
   ]
  },
  {
   "cell_type": "code",
   "execution_count": 39,
   "id": "e2ecbf91-2d65-4a0a-8c47-b49e19cdee6e",
   "metadata": {},
   "outputs": [
    {
     "data": {
      "text/plain": [
       "0      18.015\n",
       "1      44.010\n",
       "2      16.040\n",
       "3      46.070\n",
       "4      32.000\n",
       "5      28.010\n",
       "6      34.010\n",
       "7      17.030\n",
       "8      98.090\n",
       "9      60.050\n",
       "10     32.040\n",
       "11     78.110\n",
       "12     28.050\n",
       "13     44.100\n",
       "14     58.120\n",
       "15     72.150\n",
       "16     86.180\n",
       "17    100.200\n",
       "18    114.220\n",
       "19    128.250\n",
       "20    142.280\n",
       "21    194.190\n",
       "22     30.070\n",
       "Name: Molecular Weight (g/mol), dtype: float64"
      ]
     },
     "execution_count": 39,
     "metadata": {},
     "output_type": "execute_result"
    }
   ],
   "source": [
    "# If we want to access a single column, we can use the column name as an attribute\n",
    "df[\"Molecular Weight (g/mol)\"]"
   ]
  },
  {
   "cell_type": "code",
   "execution_count": 40,
   "id": "6fb819be-18bf-45aa-93b2-72f940745c05",
   "metadata": {},
   "outputs": [
    {
     "data": {
      "text/plain": [
       "Index(['# Compound Name', 'Molecular Weight (g/mol)', 'Boiling Point (°C)'], dtype='object')"
      ]
     },
     "execution_count": 40,
     "metadata": {},
     "output_type": "execute_result"
    }
   ],
   "source": [
    "df.columns"
   ]
  },
  {
   "cell_type": "code",
   "execution_count": 43,
   "id": "727a2974-c409-4d0c-8954-07858362579d",
   "metadata": {},
   "outputs": [
    {
     "data": {
      "text/html": [
       "<div>\n",
       "<style scoped>\n",
       "    .dataframe tbody tr th:only-of-type {\n",
       "        vertical-align: middle;\n",
       "    }\n",
       "\n",
       "    .dataframe tbody tr th {\n",
       "        vertical-align: top;\n",
       "    }\n",
       "\n",
       "    .dataframe thead th {\n",
       "        text-align: right;\n",
       "    }\n",
       "</style>\n",
       "<table border=\"1\" class=\"dataframe\">\n",
       "  <thead>\n",
       "    <tr style=\"text-align: right;\">\n",
       "      <th></th>\n",
       "      <th>molecule</th>\n",
       "      <th>weight</th>\n",
       "      <th>boiling point celsius</th>\n",
       "    </tr>\n",
       "  </thead>\n",
       "  <tbody>\n",
       "    <tr>\n",
       "      <th>0</th>\n",
       "      <td>Water</td>\n",
       "      <td>18.015</td>\n",
       "      <td>100.0</td>\n",
       "    </tr>\n",
       "    <tr>\n",
       "      <th>1</th>\n",
       "      <td>Carbon Dioxide</td>\n",
       "      <td>44.010</td>\n",
       "      <td>-78.5</td>\n",
       "    </tr>\n",
       "    <tr>\n",
       "      <th>2</th>\n",
       "      <td>Methane</td>\n",
       "      <td>16.040</td>\n",
       "      <td>-161.5</td>\n",
       "    </tr>\n",
       "    <tr>\n",
       "      <th>3</th>\n",
       "      <td>Ethanol</td>\n",
       "      <td>46.070</td>\n",
       "      <td>78.3</td>\n",
       "    </tr>\n",
       "    <tr>\n",
       "      <th>4</th>\n",
       "      <td>Oxygen</td>\n",
       "      <td>32.000</td>\n",
       "      <td>-183.0</td>\n",
       "    </tr>\n",
       "    <tr>\n",
       "      <th>5</th>\n",
       "      <td>Nitrogen</td>\n",
       "      <td>28.010</td>\n",
       "      <td>-196.0</td>\n",
       "    </tr>\n",
       "    <tr>\n",
       "      <th>6</th>\n",
       "      <td>Hydrogen Peroxide</td>\n",
       "      <td>34.010</td>\n",
       "      <td>150.2</td>\n",
       "    </tr>\n",
       "    <tr>\n",
       "      <th>7</th>\n",
       "      <td>Ammonia</td>\n",
       "      <td>17.030</td>\n",
       "      <td>-33.3</td>\n",
       "    </tr>\n",
       "    <tr>\n",
       "      <th>8</th>\n",
       "      <td>Sulfuric Acid</td>\n",
       "      <td>98.090</td>\n",
       "      <td>337.0</td>\n",
       "    </tr>\n",
       "    <tr>\n",
       "      <th>9</th>\n",
       "      <td>Acetic Acid</td>\n",
       "      <td>60.050</td>\n",
       "      <td>118.1</td>\n",
       "    </tr>\n",
       "    <tr>\n",
       "      <th>10</th>\n",
       "      <td>Methanol</td>\n",
       "      <td>32.040</td>\n",
       "      <td>64.7</td>\n",
       "    </tr>\n",
       "    <tr>\n",
       "      <th>11</th>\n",
       "      <td>Benzene</td>\n",
       "      <td>78.110</td>\n",
       "      <td>80.1</td>\n",
       "    </tr>\n",
       "    <tr>\n",
       "      <th>12</th>\n",
       "      <td>Ethylene</td>\n",
       "      <td>28.050</td>\n",
       "      <td>-103.7</td>\n",
       "    </tr>\n",
       "    <tr>\n",
       "      <th>13</th>\n",
       "      <td>Propane</td>\n",
       "      <td>44.100</td>\n",
       "      <td>-42.1</td>\n",
       "    </tr>\n",
       "    <tr>\n",
       "      <th>14</th>\n",
       "      <td>Butane</td>\n",
       "      <td>58.120</td>\n",
       "      <td>-0.5</td>\n",
       "    </tr>\n",
       "    <tr>\n",
       "      <th>15</th>\n",
       "      <td>Pentane</td>\n",
       "      <td>72.150</td>\n",
       "      <td>36.1</td>\n",
       "    </tr>\n",
       "    <tr>\n",
       "      <th>16</th>\n",
       "      <td>Hexane</td>\n",
       "      <td>86.180</td>\n",
       "      <td>68.7</td>\n",
       "    </tr>\n",
       "    <tr>\n",
       "      <th>17</th>\n",
       "      <td>Heptane</td>\n",
       "      <td>100.200</td>\n",
       "      <td>98.4</td>\n",
       "    </tr>\n",
       "    <tr>\n",
       "      <th>18</th>\n",
       "      <td>Octane</td>\n",
       "      <td>114.220</td>\n",
       "      <td>125.7</td>\n",
       "    </tr>\n",
       "    <tr>\n",
       "      <th>19</th>\n",
       "      <td>Nonane</td>\n",
       "      <td>128.250</td>\n",
       "      <td>150.8</td>\n",
       "    </tr>\n",
       "    <tr>\n",
       "      <th>20</th>\n",
       "      <td>Decane</td>\n",
       "      <td>142.280</td>\n",
       "      <td>174.1</td>\n",
       "    </tr>\n",
       "    <tr>\n",
       "      <th>21</th>\n",
       "      <td>Caffeine</td>\n",
       "      <td>194.190</td>\n",
       "      <td>178.0</td>\n",
       "    </tr>\n",
       "    <tr>\n",
       "      <th>22</th>\n",
       "      <td>Ethane</td>\n",
       "      <td>30.070</td>\n",
       "      <td>-88.6</td>\n",
       "    </tr>\n",
       "  </tbody>\n",
       "</table>\n",
       "</div>"
      ],
      "text/plain": [
       "             molecule   weight  boiling point celsius\n",
       "0               Water   18.015                  100.0\n",
       "1      Carbon Dioxide   44.010                  -78.5\n",
       "2             Methane   16.040                 -161.5\n",
       "3             Ethanol   46.070                   78.3\n",
       "4              Oxygen   32.000                 -183.0\n",
       "5            Nitrogen   28.010                 -196.0\n",
       "6   Hydrogen Peroxide   34.010                  150.2\n",
       "7             Ammonia   17.030                  -33.3\n",
       "8       Sulfuric Acid   98.090                  337.0\n",
       "9         Acetic Acid   60.050                  118.1\n",
       "10           Methanol   32.040                   64.7\n",
       "11            Benzene   78.110                   80.1\n",
       "12           Ethylene   28.050                 -103.7\n",
       "13            Propane   44.100                  -42.1\n",
       "14             Butane   58.120                   -0.5\n",
       "15            Pentane   72.150                   36.1\n",
       "16             Hexane   86.180                   68.7\n",
       "17            Heptane  100.200                   98.4\n",
       "18             Octane  114.220                  125.7\n",
       "19             Nonane  128.250                  150.8\n",
       "20             Decane  142.280                  174.1\n",
       "21           Caffeine  194.190                  178.0\n",
       "22             Ethane   30.070                  -88.6"
      ]
     },
     "execution_count": 43,
     "metadata": {},
     "output_type": "execute_result"
    }
   ],
   "source": [
    "# Load the data again, but this time specify the column names\n",
    "df = pd.read_csv(file_path, names=[\"molecule\", \"weight\", \"boiling point celsius\"], skiprows=1)\n",
    "df"
   ]
  },
  {
   "cell_type": "code",
   "execution_count": 44,
   "id": "dd909e3e-afc1-4ec7-8257-2d9efd4f0044",
   "metadata": {},
   "outputs": [
    {
     "data": {
      "text/plain": [
       "0      18.015\n",
       "1      44.010\n",
       "2      16.040\n",
       "3      46.070\n",
       "4      32.000\n",
       "5      28.010\n",
       "6      34.010\n",
       "7      17.030\n",
       "8      98.090\n",
       "9      60.050\n",
       "10     32.040\n",
       "11     78.110\n",
       "12     28.050\n",
       "13     44.100\n",
       "14     58.120\n",
       "15     72.150\n",
       "16     86.180\n",
       "17    100.200\n",
       "18    114.220\n",
       "19    128.250\n",
       "20    142.280\n",
       "21    194.190\n",
       "22     30.070\n",
       "Name: weight, dtype: float64"
      ]
     },
     "execution_count": 44,
     "metadata": {},
     "output_type": "execute_result"
    }
   ],
   "source": [
    "df[\"weight\"]"
   ]
  },
  {
   "cell_type": "code",
   "execution_count": 45,
   "id": "4691ed8f-58b8-44ef-95ae-e166ae42e36b",
   "metadata": {},
   "outputs": [
    {
     "data": {
      "text/html": [
       "<div>\n",
       "<style scoped>\n",
       "    .dataframe tbody tr th:only-of-type {\n",
       "        vertical-align: middle;\n",
       "    }\n",
       "\n",
       "    .dataframe tbody tr th {\n",
       "        vertical-align: top;\n",
       "    }\n",
       "\n",
       "    .dataframe thead th {\n",
       "        text-align: right;\n",
       "    }\n",
       "</style>\n",
       "<table border=\"1\" class=\"dataframe\">\n",
       "  <thead>\n",
       "    <tr style=\"text-align: right;\">\n",
       "      <th></th>\n",
       "      <th>weight</th>\n",
       "      <th>boiling point celsius</th>\n",
       "    </tr>\n",
       "  </thead>\n",
       "  <tbody>\n",
       "    <tr>\n",
       "      <th>count</th>\n",
       "      <td>23.000000</td>\n",
       "      <td>23.000000</td>\n",
       "    </tr>\n",
       "    <tr>\n",
       "      <th>mean</th>\n",
       "      <td>65.273261</td>\n",
       "      <td>37.956522</td>\n",
       "    </tr>\n",
       "    <tr>\n",
       "      <th>std</th>\n",
       "      <td>46.413192</td>\n",
       "      <td>132.381971</td>\n",
       "    </tr>\n",
       "    <tr>\n",
       "      <th>min</th>\n",
       "      <td>16.040000</td>\n",
       "      <td>-196.000000</td>\n",
       "    </tr>\n",
       "    <tr>\n",
       "      <th>25%</th>\n",
       "      <td>31.035000</td>\n",
       "      <td>-60.300000</td>\n",
       "    </tr>\n",
       "    <tr>\n",
       "      <th>50%</th>\n",
       "      <td>46.070000</td>\n",
       "      <td>68.700000</td>\n",
       "    </tr>\n",
       "    <tr>\n",
       "      <th>75%</th>\n",
       "      <td>92.135000</td>\n",
       "      <td>121.900000</td>\n",
       "    </tr>\n",
       "    <tr>\n",
       "      <th>max</th>\n",
       "      <td>194.190000</td>\n",
       "      <td>337.000000</td>\n",
       "    </tr>\n",
       "  </tbody>\n",
       "</table>\n",
       "</div>"
      ],
      "text/plain": [
       "           weight  boiling point celsius\n",
       "count   23.000000              23.000000\n",
       "mean    65.273261              37.956522\n",
       "std     46.413192             132.381971\n",
       "min     16.040000            -196.000000\n",
       "25%     31.035000             -60.300000\n",
       "50%     46.070000              68.700000\n",
       "75%     92.135000             121.900000\n",
       "max    194.190000             337.000000"
      ]
     },
     "execution_count": 45,
     "metadata": {},
     "output_type": "execute_result"
    }
   ],
   "source": [
    "## Data inspection \n",
    "\"\"\"\n",
    "Pandas provides numerous functions to quickly inspect your data:\n",
    "\n",
    "df.head() displays the first few rows of the DataFrame.\n",
    "df.describe() gives a statistical summary of the numerical columns.\n",
    "df.dtypes shows the data type of each column.\n",
    "\"\"\"\n",
    "\n",
    "df.describe()"
   ]
  },
  {
   "cell_type": "code",
   "execution_count": 46,
   "id": "dabc50da-b76b-43fc-b88d-817971b709c5",
   "metadata": {},
   "outputs": [
    {
     "data": {
      "text/html": [
       "<div>\n",
       "<style scoped>\n",
       "    .dataframe tbody tr th:only-of-type {\n",
       "        vertical-align: middle;\n",
       "    }\n",
       "\n",
       "    .dataframe tbody tr th {\n",
       "        vertical-align: top;\n",
       "    }\n",
       "\n",
       "    .dataframe thead th {\n",
       "        text-align: right;\n",
       "    }\n",
       "</style>\n",
       "<table border=\"1\" class=\"dataframe\">\n",
       "  <thead>\n",
       "    <tr style=\"text-align: right;\">\n",
       "      <th></th>\n",
       "      <th>molecule</th>\n",
       "      <th>weight</th>\n",
       "      <th>boiling point celsius</th>\n",
       "    </tr>\n",
       "  </thead>\n",
       "  <tbody>\n",
       "    <tr>\n",
       "      <th>0</th>\n",
       "      <td>Water</td>\n",
       "      <td>18.015</td>\n",
       "      <td>100.0</td>\n",
       "    </tr>\n",
       "    <tr>\n",
       "      <th>1</th>\n",
       "      <td>Carbon Dioxide</td>\n",
       "      <td>44.010</td>\n",
       "      <td>-78.5</td>\n",
       "    </tr>\n",
       "    <tr>\n",
       "      <th>2</th>\n",
       "      <td>Methane</td>\n",
       "      <td>16.040</td>\n",
       "      <td>-161.5</td>\n",
       "    </tr>\n",
       "    <tr>\n",
       "      <th>3</th>\n",
       "      <td>Ethanol</td>\n",
       "      <td>46.070</td>\n",
       "      <td>78.3</td>\n",
       "    </tr>\n",
       "    <tr>\n",
       "      <th>4</th>\n",
       "      <td>Oxygen</td>\n",
       "      <td>32.000</td>\n",
       "      <td>-183.0</td>\n",
       "    </tr>\n",
       "  </tbody>\n",
       "</table>\n",
       "</div>"
      ],
      "text/plain": [
       "         molecule  weight  boiling point celsius\n",
       "0           Water  18.015                  100.0\n",
       "1  Carbon Dioxide  44.010                  -78.5\n",
       "2         Methane  16.040                 -161.5\n",
       "3         Ethanol  46.070                   78.3\n",
       "4          Oxygen  32.000                 -183.0"
      ]
     },
     "execution_count": 46,
     "metadata": {},
     "output_type": "execute_result"
    }
   ],
   "source": [
    "df.head() "
   ]
  },
  {
   "cell_type": "code",
   "execution_count": 47,
   "id": "05e5862a-aaed-4d64-882e-86c9223bcdc0",
   "metadata": {},
   "outputs": [
    {
     "data": {
      "text/plain": [
       "molecule                  object\n",
       "weight                   float64\n",
       "boiling point celsius    float64\n",
       "dtype: object"
      ]
     },
     "execution_count": 47,
     "metadata": {},
     "output_type": "execute_result"
    }
   ],
   "source": [
    "df.dtypes"
   ]
  },
  {
   "cell_type": "code",
   "execution_count": 48,
   "id": "ee5fc79c-8a6f-4c6e-9117-de8cb72a5697",
   "metadata": {},
   "outputs": [
    {
     "data": {
      "text/plain": [
       "'\\nIn pandas, .loc and .iloc are indexing operators used for selecting data from a DataFrame. While both are used for data selection, they differ in how they perform the selection:\\n\\n.loc is label-based, meaning you use the labels of the rows and columns to select data.\\n.iloc is integer position-based, so you use integer indices to select data.\\n'"
      ]
     },
     "execution_count": 48,
     "metadata": {},
     "output_type": "execute_result"
    }
   ],
   "source": [
    "## Indexing \n",
    "\"\"\"\n",
    "In pandas, .loc and .iloc are indexing operators used for selecting data from a DataFrame. While both are used for data selection, they differ in how they perform the selection:\n",
    "\n",
    ".loc is label-based, meaning you use the labels of the rows and columns to select data.\n",
    ".iloc is integer position-based, so you use integer indices to select data.\n",
    "\"\"\"\n"
   ]
  },
  {
   "cell_type": "code",
   "execution_count": 55,
   "id": "d7b00bde-ff18-43ef-a484-f33064032a68",
   "metadata": {},
   "outputs": [
    {
     "data": {
      "text/plain": [
       "molecule                 Carbon Dioxide\n",
       "weight                            44.01\n",
       "boiling point celsius             -78.5\n",
       "Name: 1, dtype: object"
      ]
     },
     "execution_count": 55,
     "metadata": {},
     "output_type": "execute_result"
    }
   ],
   "source": [
    "# Select the row for Carbon Dioxide (index 1)\n",
    "\n",
    "df.loc[1]"
   ]
  },
  {
   "cell_type": "code",
   "execution_count": 51,
   "id": "fb101469-b2cb-42d7-a0dc-ab3a521ff937",
   "metadata": {},
   "outputs": [
    {
     "data": {
      "text/html": [
       "<div>\n",
       "<style scoped>\n",
       "    .dataframe tbody tr th:only-of-type {\n",
       "        vertical-align: middle;\n",
       "    }\n",
       "\n",
       "    .dataframe tbody tr th {\n",
       "        vertical-align: top;\n",
       "    }\n",
       "\n",
       "    .dataframe thead th {\n",
       "        text-align: right;\n",
       "    }\n",
       "</style>\n",
       "<table border=\"1\" class=\"dataframe\">\n",
       "  <thead>\n",
       "    <tr style=\"text-align: right;\">\n",
       "      <th></th>\n",
       "      <th>molecule</th>\n",
       "      <th>weight</th>\n",
       "      <th>boiling point celsius</th>\n",
       "    </tr>\n",
       "  </thead>\n",
       "  <tbody>\n",
       "    <tr>\n",
       "      <th>0</th>\n",
       "      <td>Water</td>\n",
       "      <td>18.015</td>\n",
       "      <td>100.0</td>\n",
       "    </tr>\n",
       "    <tr>\n",
       "      <th>10</th>\n",
       "      <td>Methanol</td>\n",
       "      <td>32.040</td>\n",
       "      <td>64.7</td>\n",
       "    </tr>\n",
       "  </tbody>\n",
       "</table>\n",
       "</div>"
      ],
      "text/plain": [
       "    molecule  weight  boiling point celsius\n",
       "0      Water  18.015                  100.0\n",
       "10  Methanol  32.040                   64.7"
      ]
     },
     "execution_count": 51,
     "metadata": {},
     "output_type": "execute_result"
    }
   ],
   "source": [
    "# Select rows for Water and Methanol\n",
    "df.loc[[0, 10]]"
   ]
  },
  {
   "cell_type": "code",
   "execution_count": 54,
   "id": "0501bf42-671b-4583-829d-cad058f1a7ab",
   "metadata": {},
   "outputs": [
    {
     "data": {
      "text/html": [
       "<div>\n",
       "<style scoped>\n",
       "    .dataframe tbody tr th:only-of-type {\n",
       "        vertical-align: middle;\n",
       "    }\n",
       "\n",
       "    .dataframe tbody tr th {\n",
       "        vertical-align: top;\n",
       "    }\n",
       "\n",
       "    .dataframe thead th {\n",
       "        text-align: right;\n",
       "    }\n",
       "</style>\n",
       "<table border=\"1\" class=\"dataframe\">\n",
       "  <thead>\n",
       "    <tr style=\"text-align: right;\">\n",
       "      <th></th>\n",
       "      <th>molecule</th>\n",
       "      <th>weight</th>\n",
       "      <th>boiling point celsius</th>\n",
       "    </tr>\n",
       "  </thead>\n",
       "  <tbody>\n",
       "    <tr>\n",
       "      <th>0</th>\n",
       "      <td>Water</td>\n",
       "      <td>18.015</td>\n",
       "      <td>100.0</td>\n",
       "    </tr>\n",
       "    <tr>\n",
       "      <th>2</th>\n",
       "      <td>Methane</td>\n",
       "      <td>16.040</td>\n",
       "      <td>-161.5</td>\n",
       "    </tr>\n",
       "  </tbody>\n",
       "</table>\n",
       "</div>"
      ],
      "text/plain": [
       "  molecule  weight  boiling point celsius\n",
       "0    Water  18.015                  100.0\n",
       "2  Methane  16.040                 -161.5"
      ]
     },
     "execution_count": 54,
     "metadata": {},
     "output_type": "execute_result"
    }
   ],
   "source": [
    "# Select rows for Water and Methane\n",
    "df.iloc[[0, 2]]"
   ]
  },
  {
   "cell_type": "code",
   "execution_count": 56,
   "id": "5b033b8e-d1f0-496a-94fa-f504cb977be6",
   "metadata": {},
   "outputs": [
    {
     "data": {
      "text/html": [
       "<div>\n",
       "<style scoped>\n",
       "    .dataframe tbody tr th:only-of-type {\n",
       "        vertical-align: middle;\n",
       "    }\n",
       "\n",
       "    .dataframe tbody tr th {\n",
       "        vertical-align: top;\n",
       "    }\n",
       "\n",
       "    .dataframe thead th {\n",
       "        text-align: right;\n",
       "    }\n",
       "</style>\n",
       "<table border=\"1\" class=\"dataframe\">\n",
       "  <thead>\n",
       "    <tr style=\"text-align: right;\">\n",
       "      <th></th>\n",
       "      <th>weight</th>\n",
       "      <th>boiling point celsius</th>\n",
       "    </tr>\n",
       "  </thead>\n",
       "  <tbody>\n",
       "    <tr>\n",
       "      <th>1</th>\n",
       "      <td>44.01</td>\n",
       "      <td>-78.5</td>\n",
       "    </tr>\n",
       "    <tr>\n",
       "      <th>2</th>\n",
       "      <td>16.04</td>\n",
       "      <td>-161.5</td>\n",
       "    </tr>\n",
       "  </tbody>\n",
       "</table>\n",
       "</div>"
      ],
      "text/plain": [
       "   weight  boiling point celsius\n",
       "1   44.01                  -78.5\n",
       "2   16.04                 -161.5"
      ]
     },
     "execution_count": 56,
     "metadata": {},
     "output_type": "execute_result"
    }
   ],
   "source": [
    "\n",
    "# Select the Molecular Weight and Melting Point for Carbon Dioxide and Methane\n",
    "df.iloc[[1, 2], [1, 2]]\n"
   ]
  },
  {
   "cell_type": "code",
   "execution_count": 57,
   "id": "b588205d-b370-4371-a9dd-f1c3f7a5fc21",
   "metadata": {},
   "outputs": [
    {
     "data": {
      "text/html": [
       "<div>\n",
       "<style scoped>\n",
       "    .dataframe tbody tr th:only-of-type {\n",
       "        vertical-align: middle;\n",
       "    }\n",
       "\n",
       "    .dataframe tbody tr th {\n",
       "        vertical-align: top;\n",
       "    }\n",
       "\n",
       "    .dataframe thead th {\n",
       "        text-align: right;\n",
       "    }\n",
       "</style>\n",
       "<table border=\"1\" class=\"dataframe\">\n",
       "  <thead>\n",
       "    <tr style=\"text-align: right;\">\n",
       "      <th></th>\n",
       "      <th>molecule</th>\n",
       "      <th>weight</th>\n",
       "      <th>boiling point celsius</th>\n",
       "    </tr>\n",
       "  </thead>\n",
       "  <tbody>\n",
       "    <tr>\n",
       "      <th>0</th>\n",
       "      <td>Water</td>\n",
       "      <td>18.015</td>\n",
       "      <td>100.0</td>\n",
       "    </tr>\n",
       "  </tbody>\n",
       "</table>\n",
       "</div>"
      ],
      "text/plain": [
       "  molecule  weight  boiling point celsius\n",
       "0    Water  18.015                  100.0"
      ]
     },
     "execution_count": 57,
     "metadata": {},
     "output_type": "execute_result"
    }
   ],
   "source": [
    "# Select the row for water\n",
    "df[df[\"molecule\"] == \"Water\"]"
   ]
  },
  {
   "cell_type": "code",
   "execution_count": 58,
   "id": "ad980cba-97c4-4d37-8048-364fb8f6eb56",
   "metadata": {},
   "outputs": [
    {
     "data": {
      "text/html": [
       "<div>\n",
       "<style scoped>\n",
       "    .dataframe tbody tr th:only-of-type {\n",
       "        vertical-align: middle;\n",
       "    }\n",
       "\n",
       "    .dataframe tbody tr th {\n",
       "        vertical-align: top;\n",
       "    }\n",
       "\n",
       "    .dataframe thead th {\n",
       "        text-align: right;\n",
       "    }\n",
       "</style>\n",
       "<table border=\"1\" class=\"dataframe\">\n",
       "  <thead>\n",
       "    <tr style=\"text-align: right;\">\n",
       "      <th></th>\n",
       "      <th>molecule</th>\n",
       "      <th>weight</th>\n",
       "      <th>boiling point celsius</th>\n",
       "    </tr>\n",
       "  </thead>\n",
       "  <tbody>\n",
       "    <tr>\n",
       "      <th>2</th>\n",
       "      <td>Methane</td>\n",
       "      <td>16.04</td>\n",
       "      <td>-161.5</td>\n",
       "    </tr>\n",
       "    <tr>\n",
       "      <th>13</th>\n",
       "      <td>Propane</td>\n",
       "      <td>44.10</td>\n",
       "      <td>-42.1</td>\n",
       "    </tr>\n",
       "    <tr>\n",
       "      <th>14</th>\n",
       "      <td>Butane</td>\n",
       "      <td>58.12</td>\n",
       "      <td>-0.5</td>\n",
       "    </tr>\n",
       "    <tr>\n",
       "      <th>15</th>\n",
       "      <td>Pentane</td>\n",
       "      <td>72.15</td>\n",
       "      <td>36.1</td>\n",
       "    </tr>\n",
       "    <tr>\n",
       "      <th>16</th>\n",
       "      <td>Hexane</td>\n",
       "      <td>86.18</td>\n",
       "      <td>68.7</td>\n",
       "    </tr>\n",
       "    <tr>\n",
       "      <th>17</th>\n",
       "      <td>Heptane</td>\n",
       "      <td>100.20</td>\n",
       "      <td>98.4</td>\n",
       "    </tr>\n",
       "    <tr>\n",
       "      <th>18</th>\n",
       "      <td>Octane</td>\n",
       "      <td>114.22</td>\n",
       "      <td>125.7</td>\n",
       "    </tr>\n",
       "    <tr>\n",
       "      <th>19</th>\n",
       "      <td>Nonane</td>\n",
       "      <td>128.25</td>\n",
       "      <td>150.8</td>\n",
       "    </tr>\n",
       "    <tr>\n",
       "      <th>20</th>\n",
       "      <td>Decane</td>\n",
       "      <td>142.28</td>\n",
       "      <td>174.1</td>\n",
       "    </tr>\n",
       "    <tr>\n",
       "      <th>22</th>\n",
       "      <td>Ethane</td>\n",
       "      <td>30.07</td>\n",
       "      <td>-88.6</td>\n",
       "    </tr>\n",
       "  </tbody>\n",
       "</table>\n",
       "</div>"
      ],
      "text/plain": [
       "   molecule  weight  boiling point celsius\n",
       "2   Methane   16.04                 -161.5\n",
       "13  Propane   44.10                  -42.1\n",
       "14   Butane   58.12                   -0.5\n",
       "15  Pentane   72.15                   36.1\n",
       "16   Hexane   86.18                   68.7\n",
       "17  Heptane  100.20                   98.4\n",
       "18   Octane  114.22                  125.7\n",
       "19   Nonane  128.25                  150.8\n",
       "20   Decane  142.28                  174.1\n",
       "22   Ethane   30.07                  -88.6"
      ]
     },
     "execution_count": 58,
     "metadata": {},
     "output_type": "execute_result"
    }
   ],
   "source": [
    "# Select all the hydrocarbons\n",
    "hydrocarbons = [\n",
    "    \"Methane\",\n",
    "    \"Ethane\",\n",
    "    \"Propane\",\n",
    "    \"Butane\",\n",
    "    \"Pentane\",\n",
    "    \"Hexane\",\n",
    "    \"Heptane\",\n",
    "    \"Octane\",\n",
    "    \"Nonane\",\n",
    "    \"Decane\",\n",
    "]\n",
    "\n",
    "df[df[\"molecule\"].isin(hydrocarbons)]"
   ]
  },
  {
   "cell_type": "code",
   "execution_count": 59,
   "id": "8eda0f0d-4177-4d18-986e-e2516ae845df",
   "metadata": {},
   "outputs": [
    {
     "name": "stdout",
     "output_type": "stream",
     "text": [
      "Max molecular weight: 194.19\n",
      "Min molecular weight: 16.04\n",
      "Mean molecular weight (pandas): 65.27326086956522\n",
      "Mean molecular weight (numpy): 65.27326086956522\n",
      "Standard deviation of molecular weight (pandas): 46.413192129567285\n",
      "Standard deviation of molecular weight (numpy): 45.39299739158912\n"
     ]
    }
   ],
   "source": [
    "## Operations\n",
    "\n",
    "molecular_weights = df[\"weight\"]\n",
    "\n",
    "print(\"Max molecular weight:\", molecular_weights.max())\n",
    "print(\"Min molecular weight:\", molecular_weights.min())\n",
    "\n",
    "print(\"Mean molecular weight (pandas):\", molecular_weights.mean())\n",
    "print(\"Mean molecular weight (numpy):\", np.mean(molecular_weights))\n",
    "\n",
    "print(\"Standard deviation of molecular weight (pandas):\", molecular_weights.std())\n",
    "print(\"Standard deviation of molecular weight (numpy):\", np.std(molecular_weights))"
   ]
  },
  {
   "cell_type": "code",
   "execution_count": 60,
   "id": "42bd388c-748b-4150-8718-5b07f97ff508",
   "metadata": {},
   "outputs": [
    {
     "data": {
      "text/plain": [
       "\"\\nWhat it is: Matplotlib is a plotting library for Python, providing an object-oriented API for embedding \\nplots into applications. It's capable of producing a wide range of static, animated, and interactive \\nvisualizations in a variety of output formats.\\n\\nWhy it's used: Matplotlib is the go-to library for creating graphs, charts, and figures in Python. It's \\nhighly customizable and can produce almost any kind of visualization you might need, from simple bar charts \\nand line plots to complex scatter plots and histograms.\\n\\nUsefulness in Chemical Sciences: Visual representation of data is crucial in chemistry for understanding \\ncomplex relationships, trends, and patterns. Matplotlib enables chemists to visualize experimental results, \\nsuch as reaction rates or concentration changes over time, and to compare theoretical models with experimental \\ndata. It's also used in teaching to help explain complex concepts through visual aids.\\n\""
      ]
     },
     "execution_count": 60,
     "metadata": {},
     "output_type": "execute_result"
    }
   ],
   "source": [
    "### matplotlib : Data Visualization\n",
    "\"\"\"\n",
    "What it is: Matplotlib is a plotting library for Python, providing an object-oriented API for embedding \n",
    "plots into applications. It's capable of producing a wide range of static, animated, and interactive \n",
    "visualizations in a variety of output formats.\n",
    "\n",
    "Why it's used: Matplotlib is the go-to library for creating graphs, charts, and figures in Python. It's \n",
    "highly customizable and can produce almost any kind of visualization you might need, from simple bar charts \n",
    "and line plots to complex scatter plots and histograms.\n",
    "\n",
    "Usefulness in Chemical Sciences: Visual representation of data is crucial in chemistry for understanding \n",
    "complex relationships, trends, and patterns. Matplotlib enables chemists to visualize experimental results, \n",
    "such as reaction rates or concentration changes over time, and to compare theoretical models with experimental \n",
    "data. It's also used in teaching to help explain complex concepts through visual aids.\n",
    "\"\"\""
   ]
  },
  {
   "cell_type": "code",
   "execution_count": 63,
   "id": "16f4701d-ac9a-472f-8fd8-fc842fac47b1",
   "metadata": {},
   "outputs": [
    {
     "data": {
      "image/png": "[encoded data removed]",
      "text/plain": [
       "<Figure size 640x480 with 1 Axes>"
      ]
     },
     "metadata": {},
     "output_type": "display_data"
    }
   ],
   "source": [
    "# Let's plot some chemically-inspired dat : \n",
    "\n",
    "elements = ['Li', 'Be', 'B', 'C', 'N', 'O', 'F', 'Ne']\n",
    "atomic_radii = [152, 112, 88, 77, 70, 66, 64, 58]  # in pm\n",
    "\n",
    "# Create a plot. Use a 'o' marker to plot scatter points\n",
    "fig, ax = plt.subplots()\n",
    "ax.plot(elements, atomic_radii, marker='o', linestyle='-', color='b')\n",
    "ax.set_title('Atomic Radii of the Elements in the Second Period')\n",
    "ax.set_xlabel('Element')\n",
    "ax.set_ylabel('Atomic Radii (pm)')\n",
    "ax.grid(True)"
   ]
  },
  {
   "cell_type": "code",
   "execution_count": 67,
   "id": "9fcc8719-e952-4f25-adcb-9bffaf7f8912",
   "metadata": {},
   "outputs": [
    {
     "data": {
      "text/plain": [
       "Text(0, 0.5, 'Ionization Energy (eV)')"
      ]
     },
     "execution_count": 67,
     "metadata": {},
     "output_type": "execute_result"
    },
    {
     "data": {
      "image/png": "[encoded data removed]",
      "text/plain": [
       "<Figure size 640x480 with 1 Axes>"
      ]
     },
     "metadata": {},
     "output_type": "display_data"
    }
   ],
   "source": [
    "elements = ['H', 'He', 'Li', 'Be']\n",
    "ionization_energies = [13.6, 24.6, 5.39, 9.32]  # in eV\n",
    "\n",
    "fig, ax = plt.subplots()\n",
    "ax.bar(elements, ionization_energies, color='green')\n",
    "ax.set_title('First Ionization Energies of Elements')\n",
    "ax.set_xlabel('Element')\n",
    "ax.set_ylabel('Ionization Energy (eV)')\n"
   ]
  },
  {
   "cell_type": "code",
   "execution_count": 77,
   "id": "7b029078-db7a-4741-aa76-b06ff42ac9e5",
   "metadata": {},
   "outputs": [
    {
     "name": "stderr",
     "output_type": "stream",
     "text": [
      "C:\\Users\\venan\\AppData\\Local\\Temp\\ipykernel_18968\\1807942977.py:27: SettingWithCopyWarning: \n",
      "A value is trying to be set on a copy of a slice from a DataFrame.\n",
      "Try using .loc[row_indexer,col_indexer] = value instead\n",
      "\n",
      "See the caveats in the documentation: https://pandas.pydata.org/pandas-docs/stable/user_guide/indexing.html#returning-a-view-versus-a-copy\n",
      "  hcarbons_df[\"num_carbons\"] = [hydrocarbons[name] for name in hcarbons_df[\"molecule\"]]\n"
     ]
    },
    {
     "data": {
      "text/html": [
       "<div>\n",
       "<style scoped>\n",
       "    .dataframe tbody tr th:only-of-type {\n",
       "        vertical-align: middle;\n",
       "    }\n",
       "\n",
       "    .dataframe tbody tr th {\n",
       "        vertical-align: top;\n",
       "    }\n",
       "\n",
       "    .dataframe thead th {\n",
       "        text-align: right;\n",
       "    }\n",
       "</style>\n",
       "<table border=\"1\" class=\"dataframe\">\n",
       "  <thead>\n",
       "    <tr style=\"text-align: right;\">\n",
       "      <th></th>\n",
       "      <th>molecule</th>\n",
       "      <th>weight</th>\n",
       "      <th>boiling_point_celsius</th>\n",
       "      <th>num_carbons</th>\n",
       "    </tr>\n",
       "  </thead>\n",
       "  <tbody>\n",
       "    <tr>\n",
       "      <th>2</th>\n",
       "      <td>Methane</td>\n",
       "      <td>16.04</td>\n",
       "      <td>-161.5</td>\n",
       "      <td>1</td>\n",
       "    </tr>\n",
       "    <tr>\n",
       "      <th>13</th>\n",
       "      <td>Propane</td>\n",
       "      <td>44.10</td>\n",
       "      <td>-42.1</td>\n",
       "      <td>3</td>\n",
       "    </tr>\n",
       "    <tr>\n",
       "      <th>14</th>\n",
       "      <td>Butane</td>\n",
       "      <td>58.12</td>\n",
       "      <td>-0.5</td>\n",
       "      <td>4</td>\n",
       "    </tr>\n",
       "    <tr>\n",
       "      <th>15</th>\n",
       "      <td>Pentane</td>\n",
       "      <td>72.15</td>\n",
       "      <td>36.1</td>\n",
       "      <td>5</td>\n",
       "    </tr>\n",
       "    <tr>\n",
       "      <th>16</th>\n",
       "      <td>Hexane</td>\n",
       "      <td>86.18</td>\n",
       "      <td>68.7</td>\n",
       "      <td>6</td>\n",
       "    </tr>\n",
       "    <tr>\n",
       "      <th>17</th>\n",
       "      <td>Heptane</td>\n",
       "      <td>100.20</td>\n",
       "      <td>98.4</td>\n",
       "      <td>7</td>\n",
       "    </tr>\n",
       "    <tr>\n",
       "      <th>18</th>\n",
       "      <td>Octane</td>\n",
       "      <td>114.22</td>\n",
       "      <td>125.7</td>\n",
       "      <td>8</td>\n",
       "    </tr>\n",
       "    <tr>\n",
       "      <th>19</th>\n",
       "      <td>Nonane</td>\n",
       "      <td>128.25</td>\n",
       "      <td>150.8</td>\n",
       "      <td>9</td>\n",
       "    </tr>\n",
       "    <tr>\n",
       "      <th>20</th>\n",
       "      <td>Decane</td>\n",
       "      <td>142.28</td>\n",
       "      <td>174.1</td>\n",
       "      <td>10</td>\n",
       "    </tr>\n",
       "    <tr>\n",
       "      <th>22</th>\n",
       "      <td>Ethane</td>\n",
       "      <td>30.07</td>\n",
       "      <td>-88.6</td>\n",
       "      <td>2</td>\n",
       "    </tr>\n",
       "  </tbody>\n",
       "</table>\n",
       "</div>"
      ],
      "text/plain": [
       "   molecule  weight  boiling_point_celsius  num_carbons\n",
       "2   Methane   16.04                 -161.5            1\n",
       "13  Propane   44.10                  -42.1            3\n",
       "14   Butane   58.12                   -0.5            4\n",
       "15  Pentane   72.15                   36.1            5\n",
       "16   Hexane   86.18                   68.7            6\n",
       "17  Heptane  100.20                   98.4            7\n",
       "18   Octane  114.22                  125.7            8\n",
       "19   Nonane  128.25                  150.8            9\n",
       "20   Decane  142.28                  174.1           10\n",
       "22   Ethane   30.07                  -88.6            2"
      ]
     },
     "metadata": {},
     "output_type": "display_data"
    },
    {
     "data": {
      "text/plain": [
       "Text(0, 0.5, 'Molecular Weight (g/mol)')"
      ]
     },
     "execution_count": 77,
     "metadata": {},
     "output_type": "execute_result"
    },
    {
     "data": {
      "image/png": "[encoded data removed]",
      "text/plain": [
       "<Figure size 640x480 with 1 Axes>"
      ]
     },
     "metadata": {},
     "output_type": "display_data"
    }
   ],
   "source": [
    "# Load the data from before\n",
    "\n",
    "file_path = \"molecular_data.txt\"\n",
    "df = pd.read_csv(file_path, names=[\"molecule\", \"weight\", \"boiling_point_celsius\"], skiprows=1)\n",
    "df\n",
    "\n",
    "# Create a sub-dataframe for the linear hydrocarbons. First, let's create a dictionary\n",
    "# to map the names to the number of carbons.\n",
    "\n",
    "hydrocarbons = {\n",
    "    \"Methane\": 1,\n",
    "    \"Ethane\": 2,\n",
    "    \"Propane\": 3,\n",
    "    \"Butane\": 4,\n",
    "    \"Pentane\": 5,\n",
    "    \"Hexane\": 6,\n",
    "    \"Heptane\": 7,\n",
    "    \"Octane\": 8,\n",
    "    \"Nonane\": 9,\n",
    "    \"Decane\": 10,\n",
    "    \n",
    "}\n",
    "hcarbons_df = df[df[\"molecule\"].isin(hydrocarbons.keys())]\n",
    "\n",
    "# Add this as a column in the dataframe\n",
    "\n",
    "hcarbons_df[\"num_carbons\"] = [hydrocarbons[name] for name in hcarbons_df[\"molecule\"]]\n",
    "display(hcarbons_df)\n",
    "\n",
    "# Plot the molecular weight against the number of carbons\n",
    "\n",
    "fig, ax = plt.subplots()\n",
    "ax.scatter(hcarbons_df[\"num_carbons\"], hcarbons_df[\"weight\"])\n",
    "# scatter show the graph with point and no lines\n",
    "\n",
    "# Add axes titles and labels\n",
    "\n",
    "ax.set_xlabel(\"Number of carbons\")\n",
    "ax.set_ylabel(\"Molecular Weight (g/mol)\")"
   ]
  },
  {
   "cell_type": "code",
   "execution_count": 78,
   "id": "e9e412d7-425f-4542-8a24-c89a3b506c54",
   "metadata": {},
   "outputs": [
    {
     "data": {
      "text/plain": [
       "<matplotlib.legend.Legend at 0x18bb5151210>"
      ]
     },
     "execution_count": 78,
     "metadata": {},
     "output_type": "execute_result"
    },
    {
     "data": {
      "image/png": "[encoded data removed]",
      "text/plain": [
       "<Figure size 640x480 with 1 Axes>"
      ]
     },
     "metadata": {},
     "output_type": "display_data"
    }
   ],
   "source": [
    "# Plot both the molecular weight and boiling point on the same plot, using a secondary\n",
    "# axis\n",
    "\n",
    "fig, ax = plt.subplots()\n",
    "ax.scatter(hcarbons_df[\"num_carbons\"], hcarbons_df[\"weight\"], label=\"Molecular Weight (g/mol)\")\n",
    "ax.scatter(hcarbons_df[\"num_carbons\"], hcarbons_df[\"boiling_point_celsius\"], label=\"Boiling Point (°C)\")\n",
    "\n",
    "# Add a title and labels\n",
    "ax.set_xlabel(\"Number of carbons in hydrocarbon\")\n",
    "ax.set_ylabel(\"Molecular Weight (g/mol)\")\n",
    "ax.set_ylabel(\"Boiling Point (°C)\")\n",
    "ax.legend()"
   ]
  },
  {
   "cell_type": "code",
   "execution_count": 79,
   "id": "04f0ca7a-d4e2-4d67-8c92-f4a51d78ed17",
   "metadata": {},
   "outputs": [
    {
     "data": {
      "text/plain": [
       "<matplotlib.legend.Legend at 0x18bb523d990>"
      ]
     },
     "execution_count": 79,
     "metadata": {},
     "output_type": "execute_result"
    },
    {
     "data": {
      "image/png": "[encoded data removed]",
      "text/plain": [
       "<Figure size 640x480 with 1 Axes>"
      ]
     },
     "metadata": {},
     "output_type": "display_data"
    }
   ],
   "source": []
  },
  {
   "cell_type": "code",
   "execution_count": null,
   "id": "39652bca-5524-4b2e-9fa4-b52229b2c1db",
   "metadata": {},
   "outputs": [],
   "source": []
  }
 ],
 "metadata": {
  "kernelspec": {
   "display_name": "Python 3 (ipykernel)",
   "language": "python",
   "name": "python3"
  },
  "language_info": {
   "codemirror_mode": {
    "name": "ipython",
    "version": 3
   },
   "file_extension": ".py",
   "mimetype": "text/x-python",
   "name": "python",
   "nbconvert_exporter": "python",
   "pygments_lexer": "ipython3",
   "version": "3.11.7"
  }
 },
 "nbformat": 4,
 "nbformat_minor": 5
}
